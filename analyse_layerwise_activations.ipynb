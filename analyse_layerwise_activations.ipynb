{
 "cells": [
  {
   "cell_type": "code",
   "execution_count": 2,
   "metadata": {
    "collapsed": false
   },
   "outputs": [],
   "source": [
    "from layerwise_activations import store_layerwise_activations\n",
    "from utils import set_up_dir, ReportInterface\n",
    "import matplotlib.pyplot as plt\n",
    "import h5py\n",
    "import caffe\n",
    "import numpy as np\n",
    "import lmdb\n",
    "%matplotlib inline"
   ]
  },
  {
   "cell_type": "code",
   "execution_count": 46,
   "metadata": {
    "collapsed": false,
    "scrolled": true
   },
   "outputs": [
    {
     "name": "stdout",
     "output_type": "stream",
     "text": [
      "path created: /mnt/antares_raid/home/oliver/Experiments/R/activations/\n",
      "Destination: /mnt/antares_raid/home/oliver/Experiments/R/activations/activity_n_13.hdf5\n",
      "('/mnt/antares_raid/home/oliver/Experiments/MLP/AER/MLP_net.prototxt', '/mnt/antares_raid/home/oliver/Experiments/R/snapshots/_iter_780000.caffemodel', 0)\n",
      "0\n",
      "1\n",
      "2\n",
      "3\n",
      "4\n",
      "5\n",
      "6\n",
      "7\n",
      "8\n",
      "9\n",
      "10\n",
      "11\n",
      "12\n",
      "SAVING\n",
      "Done creating /mnt/antares_raid/home/oliver/Experiments/R/activations/activity_n_13.hdf5\n"
     ]
    }
   ],
   "source": [
    "# ACTIVITY\n",
    "phase = caffe.TRAIN\n",
    "net_prototxt ='/mnt/antares_raid/home/oliver/Experiments/MLP/AER/MLP_net.prototxt'\n",
    "keys=['encode1neuron', 'encode2neuron', 'encode3neuron', 'encode4neuron'] \n",
    "model = '/mnt/antares_raid/home/oliver/Experiments/R/snapshots/_iter_780000.caffemodel'\n",
    "\n",
    "lmdb_path = '/mnt/raid/dnn/data_oliver/lmdb/MNIST_TRAIN_60000_rot_lmdb/shuffled/'\n",
    "keys = ['encode1neuron', 'encode2neuron', 'encode3neuron', 'encode4neuron']\n",
    "n = 13\n",
    "dst_fpath='/mnt/antares_raid/home/oliver/Experiments/R/activations/activity_n_13.hdf5'\n",
    "store_layerwise_activations(net_prototxt, model, phase, keys, n, dst_fpath)"
   ]
  },
  {
   "cell_type": "code",
   "execution_count": 3,
   "metadata": {
    "collapsed": false
   },
   "outputs": [],
   "source": [
    "#ROTATION ANGLES\n",
    "rot_lmdb_path =  '/mnt/raid/dnn/data_oliver/lmdb/MNIST_TEST_10000_rot_ang_lmdb/shuffled/'\n",
    "\n",
    "lmdb_env = lmdb.open(rot_lmdb_path)\n",
    "lmdb_txn = lmdb_env.begin()\n",
    "lmdb_cursor = lmdb_txn.cursor()\n",
    "R = []\n",
    "im_count = 0\n",
    "for key, value in lmdb_cursor:\n",
    "        R.append(value)\n",
    "Rot = np.asarray([float(r) for r in R])\n",
    "Rot = Rot - np.min(Rot)\n",
    "Rot = Rot/np.max(Rot)\n",
    "Rot = Rot\n",
    "    "
   ]
  },
  {
   "cell_type": "code",
   "execution_count": 39,
   "metadata": {
    "collapsed": false
   },
   "outputs": [
    {
     "name": "stdout",
     "output_type": "stream",
     "text": [
      "encode1neuron\n",
      "0.25\n",
      "1.0\n",
      "0.333333333333\n",
      "0.5\n",
      "0.416666666667\n",
      "0.0\n",
      "0.166666666667\n",
      "0.0833333333333\n",
      "0.916666666667\n",
      "0.583333333333\n",
      "0.75\n",
      "0.833333333333\n",
      "0.666666666667\n",
      "encode2neuron\n",
      "0.25\n",
      "1.0\n",
      "0.333333333333\n",
      "0.5\n",
      "0.416666666667\n",
      "0.0\n",
      "0.166666666667\n",
      "0.0833333333333\n",
      "0.916666666667\n",
      "0.583333333333\n",
      "0.75\n",
      "0.833333333333\n",
      "0.666666666667\n",
      "encode3neuron\n",
      "0.25\n",
      "1.0\n",
      "0.333333333333\n",
      "0.5\n",
      "0.416666666667\n",
      "0.0\n",
      "0.166666666667\n",
      "0.0833333333333\n",
      "0.916666666667\n",
      "0.583333333333\n",
      "0.75\n",
      "0.833333333333\n",
      "0.666666666667\n",
      "encode4neuron\n",
      "0.25\n",
      "1.0\n",
      "0.333333333333\n",
      "0.5\n",
      "0.416666666667\n",
      "0.0\n",
      "0.166666666667\n",
      "0.0833333333333\n",
      "0.916666666667\n",
      "0.583333333333\n",
      "0.75\n",
      "0.833333333333\n",
      "0.666666666667\n"
     ]
    }
   ],
   "source": [
    "dst_fpath='/mnt/antares_raid/home/oliver/Experiments/R/activations/activity.hdf5'\n",
    "keys = ['encode1neuron', 'encode2neuron', 'encode3neuron', 'encode4neuron']\n",
    "\n",
    "import scipy \n",
    "C = {k:{} for k in keys}\n",
    "with h5py.File(dst_fpath, \"r\") as f: #f[k]: n*batchsize x 784\n",
    "    for k in f:\n",
    "        print(k)\n",
    "        for nr, r in enumerate(list(set(Rot))):\n",
    "            print(r)\n",
    "            Rot_r = np.copy(Rot)\n",
    "            Rot_r[Rot_r != r] = 0.\n",
    "            C[k].update({str(r): np.array([scipy.stats.pearsonr(Rot_r,f[k][:,i] ) for i in range(f[k].shape[1] )] )})\n"
   ]
  },
  {
   "cell_type": "code",
   "execution_count": 37,
   "metadata": {
    "collapsed": false
   },
   "outputs": [
    {
     "ename": "ValueError",
     "evalue": "The data representation in the HDF5 file does not match the original dict.",
     "output_type": "error",
     "traceback": [
      "\u001b[1;31m---------------------------------------------------------------------------\u001b[0m",
      "\u001b[1;31mValueError\u001b[0m                                Traceback (most recent call last)",
      "\u001b[1;32m<ipython-input-37-193a1fcf654b>\u001b[0m in \u001b[0;36m<module>\u001b[1;34m()\u001b[0m\n\u001b[0;32m      3\u001b[0m \u001b[0mkeys\u001b[0m \u001b[1;33m=\u001b[0m \u001b[1;33m[\u001b[0m\u001b[1;34m'encode1neuron'\u001b[0m\u001b[1;33m,\u001b[0m \u001b[1;34m'encode2neuron'\u001b[0m\u001b[1;33m,\u001b[0m \u001b[1;34m'encode3neuron'\u001b[0m\u001b[1;33m,\u001b[0m \u001b[1;34m'encode4neuron'\u001b[0m\u001b[1;33m]\u001b[0m\u001b[1;33m\u001b[0m\u001b[0m\n\u001b[0;32m      4\u001b[0m \u001b[0mS\u001b[0m \u001b[1;33m=\u001b[0m \u001b[0mReportInterface\u001b[0m\u001b[1;33m(\u001b[0m\u001b[1;33m)\u001b[0m\u001b[1;33m\u001b[0m\u001b[0m\n\u001b[1;32m----> 5\u001b[1;33m \u001b[0mS\u001b[0m\u001b[1;33m.\u001b[0m\u001b[0m__save_dict_to_hdf5__\u001b[0m\u001b[1;33m(\u001b[0m\u001b[0mC\u001b[0m\u001b[1;33m,\u001b[0m \u001b[0mdst_fpath\u001b[0m\u001b[1;33m)\u001b[0m\u001b[1;33m\u001b[0m\u001b[0m\n\u001b[0m\u001b[0;32m      6\u001b[0m \u001b[1;33m\u001b[0m\u001b[0m\n\u001b[0;32m      7\u001b[0m \u001b[1;31m#CL = S.__load_dict_from_hdf5__(dst_fpath)\u001b[0m\u001b[1;33m\u001b[0m\u001b[1;33m\u001b[0m\u001b[0m\n",
      "\u001b[1;32m/mnt/antares_raid/home/oliver/Scripts/utils.py\u001b[0m in \u001b[0;36m__save_dict_to_hdf5__\u001b[1;34m(cls, dic, filename)\u001b[0m\n\u001b[0;32m     21\u001b[0m             \u001b[1;32mraise\u001b[0m \u001b[0mValueError\u001b[0m\u001b[1;33m(\u001b[0m\u001b[1;34m'File %s exists, will not overwrite.'\u001b[0m \u001b[1;33m%\u001b[0m \u001b[0mfilename\u001b[0m\u001b[1;33m)\u001b[0m\u001b[1;33m\u001b[0m\u001b[0m\n\u001b[0;32m     22\u001b[0m         \u001b[1;32mwith\u001b[0m \u001b[0mh5py\u001b[0m\u001b[1;33m.\u001b[0m\u001b[0mFile\u001b[0m\u001b[1;33m(\u001b[0m\u001b[0mfilename\u001b[0m\u001b[1;33m,\u001b[0m \u001b[1;34m'w'\u001b[0m\u001b[1;33m)\u001b[0m \u001b[1;32mas\u001b[0m \u001b[0mh5file\u001b[0m\u001b[1;33m:\u001b[0m\u001b[1;33m\u001b[0m\u001b[0m\n\u001b[1;32m---> 23\u001b[1;33m             \u001b[0mcls\u001b[0m\u001b[1;33m.\u001b[0m\u001b[0m__recursively_save_dict_contents_to_group__\u001b[0m\u001b[1;33m(\u001b[0m\u001b[0mh5file\u001b[0m\u001b[1;33m,\u001b[0m \u001b[1;34m'/'\u001b[0m\u001b[1;33m,\u001b[0m \u001b[0mdic\u001b[0m\u001b[1;33m)\u001b[0m\u001b[1;33m\u001b[0m\u001b[0m\n\u001b[0m\u001b[0;32m     24\u001b[0m \u001b[1;33m\u001b[0m\u001b[0m\n\u001b[0;32m     25\u001b[0m     \u001b[1;33m@\u001b[0m\u001b[0mclassmethod\u001b[0m\u001b[1;33m\u001b[0m\u001b[0m\n",
      "\u001b[1;32m/mnt/antares_raid/home/oliver/Scripts/utils.py\u001b[0m in \u001b[0;36m__recursively_save_dict_contents_to_group__\u001b[1;34m(cls, h5file, path, dic)\u001b[0m\n\u001b[0;32m     49\u001b[0m             \u001b[1;31m# save dictionaries\u001b[0m\u001b[1;33m\u001b[0m\u001b[1;33m\u001b[0m\u001b[0m\n\u001b[0;32m     50\u001b[0m             \u001b[1;32melif\u001b[0m \u001b[0misinstance\u001b[0m\u001b[1;33m(\u001b[0m\u001b[0mitem\u001b[0m\u001b[1;33m,\u001b[0m \u001b[0mdict\u001b[0m\u001b[1;33m)\u001b[0m\u001b[1;33m:\u001b[0m\u001b[1;33m\u001b[0m\u001b[0m\n\u001b[1;32m---> 51\u001b[1;33m                 \u001b[0mcls\u001b[0m\u001b[1;33m.\u001b[0m\u001b[0m__recursively_save_dict_contents_to_group__\u001b[0m\u001b[1;33m(\u001b[0m\u001b[0mh5file\u001b[0m\u001b[1;33m,\u001b[0m \u001b[0mpath\u001b[0m \u001b[1;33m+\u001b[0m \u001b[0mkey\u001b[0m \u001b[1;33m+\u001b[0m \u001b[1;34m'/'\u001b[0m\u001b[1;33m,\u001b[0m \u001b[0mitem\u001b[0m\u001b[1;33m)\u001b[0m\u001b[1;33m\u001b[0m\u001b[0m\n\u001b[0m\u001b[0;32m     52\u001b[0m             \u001b[1;31m# other types cannot be saved and will result in an error\u001b[0m\u001b[1;33m\u001b[0m\u001b[1;33m\u001b[0m\u001b[0m\n\u001b[0;32m     53\u001b[0m             \u001b[1;32melse\u001b[0m\u001b[1;33m:\u001b[0m\u001b[1;33m\u001b[0m\u001b[0m\n",
      "\u001b[1;32m/mnt/antares_raid/home/oliver/Scripts/utils.py\u001b[0m in \u001b[0;36m__recursively_save_dict_contents_to_group__\u001b[1;34m(cls, h5file, path, dic)\u001b[0m\n\u001b[0;32m     46\u001b[0m                 \u001b[0mh5file\u001b[0m\u001b[1;33m[\u001b[0m\u001b[0mpath\u001b[0m \u001b[1;33m+\u001b[0m \u001b[0mkey\u001b[0m\u001b[1;33m]\u001b[0m \u001b[1;33m=\u001b[0m \u001b[0mitem\u001b[0m\u001b[1;33m\u001b[0m\u001b[0m\n\u001b[0;32m     47\u001b[0m                 \u001b[1;32mif\u001b[0m \u001b[1;32mnot\u001b[0m \u001b[0mnp\u001b[0m\u001b[1;33m.\u001b[0m\u001b[0marray_equal\u001b[0m\u001b[1;33m(\u001b[0m\u001b[0mh5file\u001b[0m\u001b[1;33m[\u001b[0m\u001b[0mpath\u001b[0m \u001b[1;33m+\u001b[0m \u001b[0mkey\u001b[0m\u001b[1;33m]\u001b[0m\u001b[1;33m.\u001b[0m\u001b[0mvalue\u001b[0m\u001b[1;33m,\u001b[0m \u001b[0mitem\u001b[0m\u001b[1;33m)\u001b[0m\u001b[1;33m:\u001b[0m\u001b[1;33m\u001b[0m\u001b[0m\n\u001b[1;32m---> 48\u001b[1;33m                     \u001b[1;32mraise\u001b[0m \u001b[0mValueError\u001b[0m\u001b[1;33m(\u001b[0m\u001b[1;34m'The data representation in the HDF5 file does not match the original dict.'\u001b[0m\u001b[1;33m)\u001b[0m\u001b[1;33m\u001b[0m\u001b[0m\n\u001b[0m\u001b[0;32m     49\u001b[0m             \u001b[1;31m# save dictionaries\u001b[0m\u001b[1;33m\u001b[0m\u001b[1;33m\u001b[0m\u001b[0m\n\u001b[0;32m     50\u001b[0m             \u001b[1;32melif\u001b[0m \u001b[0misinstance\u001b[0m\u001b[1;33m(\u001b[0m\u001b[0mitem\u001b[0m\u001b[1;33m,\u001b[0m \u001b[0mdict\u001b[0m\u001b[1;33m)\u001b[0m\u001b[1;33m:\u001b[0m\u001b[1;33m\u001b[0m\u001b[0m\n",
      "\u001b[1;31mValueError\u001b[0m: The data representation in the HDF5 file does not match the original dict."
     ]
    }
   ],
   "source": [
    "dst_fpath='/mnt/antares_raid/home/oliver/Experiments/R/activations/correlations.hdf5'\n",
    "\n",
    "S = ReportInterface()\n",
    "S.__save_dict_to_hdf5__(C, dst_fpath)\n",
    "\n",
    "#CL = S.__load_dict_from_hdf5__(dst_fpath)\n",
    "#print([v.keys() for k,v in CL.iteritems()])"
   ]
  },
  {
   "cell_type": "code",
   "execution_count": 123,
   "metadata": {
    "collapsed": false,
    "scrolled": true
   },
   "outputs": [
    {
     "data": {
      "image/png": "[encoded data removed]",
      "text/plain": [
       "<matplotlib.figure.Figure at 0x7f25d53eea50>"
      ]
     },
     "metadata": {},
     "output_type": "display_data"
    },
    {
     "name": "stdout",
     "output_type": "stream",
     "text": [
      "336\n"
     ]
    }
   ],
   "source": [
    "plt.plot(C['encode1neuron'][1.0])\n",
    "plt.show()\n",
    "\n",
    "a = np.argmin(zip(*C['encode1neuron'][1.0])[1])\n",
    "print(a)"
   ]
  },
  {
   "cell_type": "code",
   "execution_count": 28,
   "metadata": {
    "collapsed": false
   },
   "outputs": [
    {
     "name": "stdout",
     "output_type": "stream",
     "text": [
      "4.13297447959e-05\n",
      "-6.14370111199e-05\n",
      "0.000181842642755\n",
      "-1.17949401954e-05\n"
     ]
    }
   ],
   "source": [
    "print(np.mean(zip(*C['encode1neuron'])[0]))\n",
    "print(np.mean(zip(*C['encode2neuron'])[0]))\n",
    "print(np.mean(zip(*C['encode3neuron'])[0]))\n",
    "print(np.mean(zip(*C['encode4neuron'])[0]))"
   ]
  },
  {
   "cell_type": "code",
   "execution_count": 49,
   "metadata": {
    "collapsed": false
   },
   "outputs": [
    {
     "data": {
      "text/plain": [
       "(13000,)"
      ]
     },
     "execution_count": 49,
     "metadata": {},
     "output_type": "execute_result"
    }
   ],
   "source": [
    "np.array(Rot).shape"
   ]
  },
  {
   "cell_type": "code",
   "execution_count": 17,
   "metadata": {
    "collapsed": false
   },
   "outputs": [
    {
     "name": "stdout",
     "output_type": "stream",
     "text": [
      "['encode2neuron', 'encode3neuron', 'encode1neuron', 'encode4neuron']\n"
     ]
    }
   ],
   "source": [
    "print(C.keys())"
   ]
  },
  {
   "cell_type": "code",
   "execution_count": 63,
   "metadata": {
    "collapsed": false
   },
   "outputs": [
    {
     "name": "stdout",
     "output_type": "stream",
     "text": [
      "{'encode2neuron': {0.25: 1, 1.0: 1, 0.5: 1, 0.41666666666666669: 1, 0.75: 1, 0.16666666666666666: 1, 0.083333333333333329: 1, 0.91666666666666663: 1, 0.83333333333333337: 1, 0.0: 1, 0.58333333333333337: 1, 0.66666666666666663: 1, 0.33333333333333331: 1}, 'encode3neuron': {0.25: 1, 1.0: 1, 0.5: 1, 0.41666666666666669: 1, 0.75: 1, 0.16666666666666666: 1, 0.083333333333333329: 1, 0.91666666666666663: 1, 0.83333333333333337: 1, 0.0: 1, 0.58333333333333337: 1, 0.66666666666666663: 1, 0.33333333333333331: 1}, 'encode1neuron': {0.25: 1, 1.0: 1, 0.5: 1, 0.41666666666666669: 1, 0.75: 1, 0.16666666666666666: 1, 0.083333333333333329: 1, 0.91666666666666663: 1, 0.83333333333333337: 1, 0.0: 1, 0.58333333333333337: 1, 0.66666666666666663: 1, 0.33333333333333331: 1}, 'encode4neuron': {0.25: 1, 1.0: 1, 0.5: 1, 0.41666666666666669: 1, 0.75: 1, 0.16666666666666666: 1, 0.083333333333333329: 1, 0.91666666666666663: 1, 0.83333333333333337: 1, 0.0: 1, 0.58333333333333337: 1, 0.66666666666666663: 1, 0.33333333333333331: 1}}\n"
     ]
    }
   ],
   "source": [
    "print(C)"
   ]
  },
  {
   "cell_type": "code",
   "execution_count": 36,
   "metadata": {
    "collapsed": false
   },
   "outputs": [
    {
     "name": "stdout",
     "output_type": "stream",
     "text": [
      "[{'0.166666666667': array([[  4.03592830e-03,   1.45623152e-01],\n",
      "       [ -2.66986844e-03,   3.35734634e-01],\n",
      "       [  1.40920315e-04,   9.59477676e-01],\n",
      "       ..., \n",
      "       [  4.44954964e-04,   8.72542943e-01],\n",
      "       [  3.89778520e-04,   8.88237065e-01],\n",
      "       [  7.38008569e-03,   7.79232152e-03]]), '0.583333333333': array([[ -8.38635823e-04,   7.62368808e-01],\n",
      "       [  3.13173454e-03,   2.58832513e-01],\n",
      "       [ -2.08551261e-03,   4.52089636e-01],\n",
      "       ..., \n",
      "       [  2.54038339e-04,   9.27020661e-01],\n",
      "       [  2.23658280e-03,   4.20009567e-01],\n",
      "       [  1.13514119e-04,   9.67353531e-01]]), '1.0': array([[ -2.26143528e-03,   4.14863247e-01],\n",
      "       [ -5.13431662e-04,   8.53135973e-01],\n",
      "       [  3.79970143e-03,   1.70688897e-01],\n",
      "       ..., \n",
      "       [  5.06212594e-03,   6.79754386e-02],\n",
      "       [  1.10456633e-03,   6.90443447e-01],\n",
      "       [ -3.99039185e-03,   1.50221896e-01]]), '0.833333333333': array([[ -4.05241455e-03,   1.43985039e-01],\n",
      "       [  5.20170219e-04,   8.51230798e-01],\n",
      "       [  1.71131276e-03,   5.37223441e-01],\n",
      "       ..., \n",
      "       [ -3.53081147e-03,   2.03002463e-01],\n",
      "       [  1.11229103e-03,   6.88391778e-01],\n",
      "       [  1.23169490e-03,   6.56977655e-01]]), '0.666666666667': array([[ -4.66099764e-05,   9.86591938e-01],\n",
      "       [  4.29042918e-04,   8.77064024e-01],\n",
      "       [  1.59999529e-03,   5.64019624e-01],\n",
      "       ..., \n",
      "       [  1.03342449e-03,   7.09443928e-01],\n",
      "       [  6.02245912e-04,   8.28098632e-01],\n",
      "       [ -2.71926762e-03,   3.26869827e-01]]), '0.416666666667': array([[ -1.99800155e-04,   9.42571445e-01],\n",
      "       [ -3.97202616e-03,   1.52107685e-01],\n",
      "       [  4.28644976e-04,   8.77177143e-01],\n",
      "       ..., \n",
      "       [  6.84390923e-03,   1.36017764e-02],\n",
      "       [ -5.21329557e-03,   6.01523645e-02],\n",
      "       [ -3.09880787e-04,   9.11039050e-01]]), '0.5': array([[ -5.43884565e-03,   4.98791005e-02],\n",
      "       [  2.66434978e-03,   3.36734496e-01],\n",
      "       [  2.28150307e-03,   4.10735049e-01],\n",
      "       ..., \n",
      "       [ -3.80230321e-03,   1.70396251e-01],\n",
      "       [ -2.20213302e-03,   4.27204933e-01],\n",
      "       [ -2.27863934e-04,   9.34522089e-01]]), '0.916666666667': array([[ -6.21128758e-04,   8.22796967e-01],\n",
      "       [  2.90367055e-03,   2.95133965e-01],\n",
      "       [  1.57983633e-03,   5.68940232e-01],\n",
      "       ..., \n",
      "       [ -7.78822711e-04,   7.78859305e-01],\n",
      "       [ -2.16375364e-03,   4.35305013e-01],\n",
      "       [ -2.23016153e-03,   4.21345320e-01]]), '0.0833333333333': array([[ 0.00093417,  0.73625517],\n",
      "       [-0.00137364,  0.62041139],\n",
      "       [-0.00161894,  0.55941382],\n",
      "       ..., \n",
      "       [-0.00348216,  0.20929687],\n",
      "       [-0.00163369,  0.55584065],\n",
      "       [-0.00146569,  0.5971824 ]]), '0.75': array([[  3.62371632e-03,   1.91368568e-01],\n",
      "       [ -5.31991666e-03,   5.50960050e-02],\n",
      "       [ -7.93896882e-03,   4.20374945e-03],\n",
      "       ..., \n",
      "       [  1.68185516e-03,   5.44251758e-01],\n",
      "       [  6.56438444e-03,   1.79414039e-02],\n",
      "       [  6.66262093e-04,   8.10158213e-01]]), '0.25': array([[  1.61270320e-03,   5.60928316e-01],\n",
      "       [  4.13534621e-03,   1.35958261e-01],\n",
      "       [ -7.71851566e-04,   7.80787906e-01],\n",
      "       ..., \n",
      "       [ -3.81307266e-03,   1.69188907e-01],\n",
      "       [ -1.13277086e-03,   6.82963485e-01],\n",
      "       [  4.38716943e-05,   9.87379578e-01]]), '0.333333333333': array([[  2.55264620e-03,   3.57383450e-01],\n",
      "       [  8.95348070e-04,   7.46832097e-01],\n",
      "       [  1.20175926e-04,   9.65438772e-01],\n",
      "       ..., \n",
      "       [ -3.22880668e-03,   2.44361346e-01],\n",
      "       [  4.45741015e-03,   1.08024842e-01],\n",
      "       [  2.81401159e-04,   9.19185581e-01]]), '0.0': array([[ nan,   1.],\n",
      "       [ nan,   1.],\n",
      "       [ nan,   1.],\n",
      "       ..., \n",
      "       [ nan,   1.],\n",
      "       [ nan,   1.],\n",
      "       [ nan,   1.]])}, {'0.166666666667': array([[  1.55261717e-03,   5.75616522e-01],\n",
      "       [  2.30387145e-03,   4.06162463e-01],\n",
      "       [  5.33694263e-04,   8.47409807e-01],\n",
      "       ..., \n",
      "       [ -1.12394580e-03,   6.85300626e-01],\n",
      "       [ -5.06751076e-04,   8.55025605e-01],\n",
      "       [ -1.31763392e-03,   6.34733299e-01]]), '0.583333333333': array([[ -1.83219043e-04,   9.47330112e-01],\n",
      "       [ -1.74866455e-04,   9.49727970e-01],\n",
      "       [ -4.88454942e-03,   7.82142176e-02],\n",
      "       ..., \n",
      "       [  2.14644449e-03,   4.38986962e-01],\n",
      "       [  1.80721457e-04,   9.48047069e-01],\n",
      "       [ -4.79316097e-03,   8.39537942e-02]]), '1.0': array([[  2.20972880e-03,   4.25612295e-01],\n",
      "       [  7.08089144e-04,   7.98489277e-01],\n",
      "       [  2.67923901e-03,   3.34041276e-01],\n",
      "       ..., \n",
      "       [ -1.77067524e-03,   5.23200056e-01],\n",
      "       [  3.51603783e-03,   2.04898961e-01],\n",
      "       [  2.34505458e-03,   3.97823648e-01]]), '0.833333333333': array([[ -2.89897634e-04,   9.16754257e-01],\n",
      "       [ -1.74378326e-03,   5.29529482e-01],\n",
      "       [  5.13316745e-04,   8.53168471e-01],\n",
      "       ..., \n",
      "       [  3.96395885e-03,   1.52941712e-01],\n",
      "       [ -1.84576174e-03,   5.05735202e-01],\n",
      "       [ -1.77415231e-03,   5.22384520e-01]]), '0.666666666667': array([[ -3.44299465e-04,   9.01206211e-01],\n",
      "       [ -2.20293653e-03,   4.27036293e-01],\n",
      "       [ -4.54654488e-03,   1.01156463e-01],\n",
      "       ..., \n",
      "       [ -4.30088296e-03,   1.20974155e-01],\n",
      "       [ -2.89027282e-03,   2.97367709e-01],\n",
      "       [ -2.94824030e-03,   2.87784107e-01]]), '0.416666666667': array([[ -4.54983007e-03,   1.00910124e-01],\n",
      "       [ -4.68463323e-03,   9.12076340e-02],\n",
      "       [  2.77490756e-03,   3.17068861e-01],\n",
      "       ..., \n",
      "       [  1.53098118e-03,   5.80949635e-01],\n",
      "       [ -5.05946472e-04,   8.55253247e-01],\n",
      "       [  2.77884905e-03,   3.16381955e-01]]), '0.5': array([[  9.80624377e-04,   7.23664284e-01],\n",
      "       [  5.98717206e-03,   3.08731248e-02],\n",
      "       [  3.78378863e-03,   1.72486960e-01],\n",
      "       ..., \n",
      "       [ -9.49925772e-04,   7.31976606e-01],\n",
      "       [ -5.00376141e-04,   8.56829558e-01],\n",
      "       [ -1.14682951e-03,   6.79246607e-01]]), '0.916666666667': array([[ -1.68950044e-03,   5.42423280e-01],\n",
      "       [  3.82049870e-03,   1.68360131e-01],\n",
      "       [  1.35657900e-03,   6.24758842e-01],\n",
      "       ..., \n",
      "       [  7.09564459e-04,   7.98078497e-01],\n",
      "       [  3.12154345e-03,   2.60385511e-01],\n",
      "       [  2.44578056e-03,   3.77867902e-01]]), '0.0833333333333': array([[ -2.93094995e-03,   2.90620612e-01],\n",
      "       [  3.87940363e-03,   1.61893759e-01],\n",
      "       [ -1.56276263e-03,   5.73123730e-01],\n",
      "       ..., \n",
      "       [  4.35600068e-03,   1.16282394e-01],\n",
      "       [  1.59312983e-03,   5.65693114e-01],\n",
      "       [ -7.32352213e-04,   7.91740742e-01]]), '0.75': array([[  2.05797200e-03,   4.58083695e-01],\n",
      "       [ -1.08828706e-03,   6.94774637e-01],\n",
      "       [ -1.51514918e-03,   5.84866700e-01],\n",
      "       ..., \n",
      "       [ -2.83111922e-03,   3.07364946e-01],\n",
      "       [ -1.99696119e-03,   4.71519829e-01],\n",
      "       [ -6.30970891e-04,   8.20036816e-01]]), '0.25': array([[ 0.00519761,  0.06092753],\n",
      "       [-0.00096881,  0.72686073],\n",
      "       [ 0.00099648,  0.71938363],\n",
      "       ..., \n",
      "       [ 0.00091164,  0.74238805],\n",
      "       [ 0.00272651,  0.32558336],\n",
      "       [ 0.00347806,  0.20983379]]), '0.333333333333': array([[ -5.47572075e-04,   8.43492592e-01],\n",
      "       [ -5.08528800e-04,   8.54522687e-01],\n",
      "       [ -1.86027691e-03,   5.02394771e-01],\n",
      "       ..., \n",
      "       [ -6.14283610e-05,   9.82329819e-01],\n",
      "       [ -3.64892263e-03,   1.88298429e-01],\n",
      "       [ -1.35749185e-03,   6.24525857e-01]]), '0.0': array([[ nan,   1.],\n",
      "       [ nan,   1.],\n",
      "       [ nan,   1.],\n",
      "       ..., \n",
      "       [ nan,   1.],\n",
      "       [ nan,   1.],\n",
      "       [ nan,   1.]])}, {'0.166666666667': array([[  2.35425292e-03,   3.95975351e-01],\n",
      "       [ -1.25740002e-03,   6.50291085e-01],\n",
      "       [ -4.66468953e-03,   9.25939141e-02],\n",
      "       ..., \n",
      "       [ -4.93938410e-03,   7.49265008e-02],\n",
      "       [ -1.15137979e-03,   6.78045252e-01],\n",
      "       [  4.72776374e-04,   8.64648140e-01]]), '0.583333333333': array([[-0.00224089,  0.41911428],\n",
      "       [-0.0011574 ,  0.67645745],\n",
      "       [-0.00087197,  0.75322341],\n",
      "       ..., \n",
      "       [-0.00227435,  0.41220405],\n",
      "       [ 0.00485585,  0.07998104],\n",
      "       [-0.00215097,  0.43802363]]), '1.0': array([[-0.00090607,  0.7439053 ],\n",
      "       [ 0.00336025,  0.2256861 ],\n",
      "       [ 0.00163695,  0.5550541 ],\n",
      "       ..., \n",
      "       [ 0.00442993,  0.11021557],\n",
      "       [-0.00183784,  0.50756326],\n",
      "       [-0.00498954,  0.07201896]]), '0.833333333333': array([[ 0.00254847,  0.35817033],\n",
      "       [-0.00113891,  0.68133971],\n",
      "       [ 0.00402125,  0.1470936 ],\n",
      "       ..., \n",
      "       [ 0.00084764,  0.75989639],\n",
      "       [ 0.00131243,  0.6360706 ],\n",
      "       [ 0.00128886,  0.64214486]]), '0.666666666667': array([[ -3.20425514e-03,   2.47966581e-01],\n",
      "       [  1.42348446e-03,   6.07783486e-01],\n",
      "       [  6.85065024e-03,   1.35097076e-02],\n",
      "       ..., \n",
      "       [  9.15369660e-05,   9.73671553e-01],\n",
      "       [ -2.37141701e-03,   3.92540329e-01],\n",
      "       [  7.38127476e-04,   7.90136686e-01]]), '0.416666666667': array([[ -1.16759186e-03,   6.73771638e-01],\n",
      "       [ -1.29978720e-04,   9.62621586e-01],\n",
      "       [ -1.85053587e-03,   5.04635226e-01],\n",
      "       ..., \n",
      "       [  5.89492513e-03,   3.35496228e-02],\n",
      "       [  2.63887226e-03,   3.41375263e-01],\n",
      "       [  1.96743531e-03,   4.78099396e-01]]), '0.5': array([[  5.46884468e-04,   8.43686589e-01],\n",
      "       [  9.31123845e-05,   9.73218590e-01],\n",
      "       [  9.20186880e-04,   7.40059180e-01],\n",
      "       ..., \n",
      "       [ -1.11370102e-03,   6.88017531e-01],\n",
      "       [  1.09132220e-03,   6.93966360e-01],\n",
      "       [  1.21466040e-03,   6.61423989e-01]]), '0.916666666667': array([[  5.83715964e-04,   8.33308841e-01],\n",
      "       [ -2.23706277e-03,   4.19909822e-01],\n",
      "       [ -1.64312718e-03,   5.53560919e-01],\n",
      "       ..., \n",
      "       [ -8.54704545e-04,   7.57956632e-01],\n",
      "       [ -1.26236503e-03,   6.49002776e-01],\n",
      "       [ -3.05230066e-04,   9.12368762e-01]]), '0.0833333333333': array([[  2.81820110e-03,   3.09577435e-01],\n",
      "       [  1.56846752e-03,   5.71724260e-01],\n",
      "       [ -6.24972588e-03,   2.42357635e-02],\n",
      "       ..., \n",
      "       [  1.51744797e-04,   9.56368038e-01],\n",
      "       [  2.01614068e-04,   9.42050986e-01],\n",
      "       [  7.57691781e-03,   6.29684330e-03]]), '0.75': array([[ -6.76711112e-04,   8.07239074e-01],\n",
      "       [ -1.71731542e-03,   5.35796875e-01],\n",
      "       [  7.90559076e-04,   7.75615464e-01],\n",
      "       ..., \n",
      "       [ -2.20431191e-03,   4.26747721e-01],\n",
      "       [ -3.11980705e-03,   2.60650759e-01],\n",
      "       [  5.96471831e-04,   8.29721375e-01]]), '0.25': array([[ 0.00122566,  0.65855056],\n",
      "       [-0.00128859,  0.64221618],\n",
      "       [ 0.00250852,  0.36575556],\n",
      "       ..., \n",
      "       [-0.00349549,  0.20755775],\n",
      "       [ 0.00156648,  0.57221126],\n",
      "       [-0.00586711,  0.03439474]]), '0.333333333333': array([[ -5.69969773e-05,   9.83604343e-01],\n",
      "       [ -9.06033004e-04,   7.43916153e-01],\n",
      "       [  1.92481084e-03,   4.87685729e-01],\n",
      "       ..., \n",
      "       [ -1.44648302e-03,   6.01996131e-01],\n",
      "       [  5.70399185e-04,   8.37057764e-01],\n",
      "       [ -3.92152407e-03,   1.57386142e-01]]), '0.0': array([[ nan,   1.],\n",
      "       [ nan,   1.],\n",
      "       [ nan,   1.],\n",
      "       ..., \n",
      "       [ nan,   1.],\n",
      "       [ nan,   1.],\n",
      "       [ nan,   1.]])}, {'0.166666666667': array([[ 0.00206199,  0.45720619],\n",
      "       [-0.00380374,  0.17023526],\n",
      "       [ 0.00150816,  0.58660041],\n",
      "       ..., \n",
      "       [ 0.00299369,  0.28041665],\n",
      "       [ 0.00155046,  0.57614633],\n",
      "       [ 0.00294962,  0.2875584 ]]), '0.583333333333': array([[-0.00211986,  0.4446777 ],\n",
      "       [ 0.00300226,  0.27904276],\n",
      "       [-0.00118189,  0.67001228],\n",
      "       ..., \n",
      "       [-0.00429078,  0.12184973],\n",
      "       [-0.00306529,  0.26907445],\n",
      "       [-0.00191509,  0.48988737]]), '1.0': array([[  5.26895514e-04,   8.49330237e-01],\n",
      "       [ -9.57793207e-04,   7.29843281e-01],\n",
      "       [  2.52706309e-04,   9.27402262e-01],\n",
      "       ..., \n",
      "       [  7.22712134e-04,   7.94420198e-01],\n",
      "       [ -2.05314838e-03,   4.59138100e-01],\n",
      "       [  1.02548849e-03,   7.11574978e-01]]), '0.833333333333': array([[ -7.51241120e-04,   7.86497733e-01],\n",
      "       [ -4.73219524e-03,   8.79689125e-02],\n",
      "       [  1.54211147e-03,   5.78203212e-01],\n",
      "       ..., \n",
      "       [ -7.49196777e-04,   7.87064720e-01],\n",
      "       [  3.33424925e-04,   9.04311320e-01],\n",
      "       [  6.36873845e-04,   8.18382444e-01]]), '0.666666666667': array([[ 0.0009737 ,  0.72553716],\n",
      "       [ 0.00637156,  0.02160164],\n",
      "       [-0.00212331,  0.44393541],\n",
      "       ..., \n",
      "       [-0.00337348,  0.22386472],\n",
      "       [-0.00463982,  0.09434619],\n",
      "       [-0.00296346,  0.2853023 ]]), '0.416666666667': array([[ -2.39988136e-03,   3.86883777e-01],\n",
      "       [ -5.58281065e-04,   8.40472462e-01],\n",
      "       [  5.04854240e-03,   6.87176018e-02],\n",
      "       ..., \n",
      "       [  1.00570258e-03,   7.16897863e-01],\n",
      "       [  7.84428455e-04,   7.77309436e-01],\n",
      "       [  2.89540722e-03,   2.96510342e-01]]), '0.5': array([[-0.00133669,  0.62984447],\n",
      "       [-0.00427218,  0.12347575],\n",
      "       [-0.00423683,  0.12661126],\n",
      "       ..., \n",
      "       [ 0.00184538,  0.5058233 ],\n",
      "       [ 0.00314905,  0.25620883],\n",
      "       [ 0.00470521,  0.08979477]]), '0.916666666667': array([[  2.15304668e-03,   4.37580459e-01],\n",
      "       [  5.60972709e-04,   8.39713737e-01],\n",
      "       [  2.66229318e-03,   3.37107595e-01],\n",
      "       ..., \n",
      "       [  1.60262742e-03,   5.63378664e-01],\n",
      "       [ -1.15221670e-03,   6.77824380e-01],\n",
      "       [  2.95213660e-04,   9.15233434e-01]]), '0.0833333333333': array([[ -7.48053834e-04,   7.87381759e-01],\n",
      "       [  1.21781896e-03,   6.60598634e-01],\n",
      "       [  2.27215442e-03,   4.12655141e-01],\n",
      "       ..., \n",
      "       [  1.11638625e-03,   6.87305021e-01],\n",
      "       [  1.05514226e-04,   9.69653135e-01],\n",
      "       [ -3.64102269e-03,   1.89256711e-01]]), '0.75': array([[ 0.00100433,  0.71726886],\n",
      "       [ 0.00254236,  0.35932445],\n",
      "       [-0.00264562,  0.34014224],\n",
      "       ..., \n",
      "       [-0.00265544,  0.33835201],\n",
      "       [ 0.00474339,  0.08722042],\n",
      "       [ 0.00118051,  0.67037467]]), '0.25': array([[  2.09460611e-03,   4.50120266e-01],\n",
      "       [  2.96584643e-03,   2.84915049e-01],\n",
      "       [  2.57303765e-04,   9.26085251e-01],\n",
      "       ..., \n",
      "       [  9.39758892e-04,   7.34736516e-01],\n",
      "       [ -2.93005329e-03,   2.90768222e-01],\n",
      "       [ -2.91700347e-03,   2.92922211e-01]]), '0.333333333333': array([[-0.0011554 ,  0.67698381],\n",
      "       [-0.0013089 ,  0.6369792 ],\n",
      "       [ 0.00117845,  0.67091481],\n",
      "       ..., \n",
      "       [ 0.0008026 ,  0.77229091],\n",
      "       [ 0.0025555 ,  0.3568458 ],\n",
      "       [ 0.00138394,  0.61779218]]), '0.0': array([[ nan,   1.],\n",
      "       [ nan,   1.],\n",
      "       [ nan,   1.],\n",
      "       ..., \n",
      "       [ nan,   1.],\n",
      "       [ nan,   1.],\n",
      "       [ nan,   1.]])}]\n"
     ]
    }
   ],
   "source": [
    "print(C.values())"
   ]
  },
  {
   "cell_type": "code",
   "execution_count": null,
   "metadata": {
    "collapsed": true
   },
   "outputs": [],
   "source": []
  }
 ],
 "metadata": {
  "kernelspec": {
   "display_name": "Python 2",
   "language": "python",
   "name": "python2"
  },
  "language_info": {
   "codemirror_mode": {
    "name": "ipython",
    "version": 2
   },
   "file_extension": ".py",
   "mimetype": "text/x-python",
   "name": "python",
   "nbconvert_exporter": "python",
   "pygments_lexer": "ipython2",
   "version": "2.7.6"
  }
 },
 "nbformat": 4,
 "nbformat_minor": 0
}
