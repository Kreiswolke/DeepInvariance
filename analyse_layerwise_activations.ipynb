{
 "cells": [
  {
   "cell_type": "code",
   "execution_count": 1,
   "metadata": {
    "collapsed": false
   },
   "outputs": [],
   "source": [
    "from layerwise_activations import store_layerwise_activations\n",
    "from ActivityAnalyser import ActivityAnalyser \n",
    "from utils import set_up_dir, ReportInterface\n",
    "import matplotlib.pyplot as plt\n",
    "import h5py\n",
    "import caffe\n",
    "import numpy as np\n",
    "import lmdb\n",
    "%matplotlib inline"
   ]
  },
  {
   "cell_type": "code",
   "execution_count": null,
   "metadata": {
    "collapsed": true
   },
   "outputs": [],
   "source": [
    "# ACTIVITY\n",
    "date = '2408'\n",
    "snap = '390000'\n",
    "caffemodels =  ['/mnt/antares_raid/home/oliver/Experiments/{}/R/snapshots/_iter_{}.caffemodel'.format(date,snap),\n",
    "                '/mnt/antares_raid/home/oliver/Experiments/{}/UR/snapshots/_iter_{}.caffemodel'.format(date,snap),\n",
    "                '/mnt/antares_raid/home/oliver/Experiments/{}/N25NR/snapshots/_iter_{}.caffemodel'.format(date,snap),\n",
    "                '/mnt/antares_raid/home/oliver/Experiments/{}/N25NUR/snapshots/_iter_{}.caffemodel'.format(date,snap),\n",
    "                '/mnt/antares_raid/home/oliver/Experiments/{}/N50NR/snapshots/_iter_{}.caffemodel'.format(date,snap),\n",
    "                '/mnt/antares_raid/home/oliver/Experiments/{}/N50NUR/snapshots/_iter_{}.caffemodel'.format(date,snap)\n",
    "                ]\n",
    "phase = caffe.TRAIN\n",
    "net_prototxt = '/mnt/antares_raid/home/oliver/Experiments/{}/MLP/AER/MLP_net.prototxt'.format(date)\n",
    "keys=['encode1neuron', 'encode2neuron', 'encode3neuron', 'encode4neuron'] \n",
    "model = '/mnt/antares_raid/home/oliver/Experiments/{}/R/snapshots/_iter_{}.caffemodel'.format(date,snap)\n",
    "\n",
    "lmdb_path = '/mnt/raid/dnn/data_oliver/lmdb/MNIST_TRAIN_60000_rot_lmdb/shuffled/'\n",
    "keys = ['encode1neuron', 'encode2neuron', 'encode3neuron', 'encode4neuron']\n",
    "n = 780\n",
    "dst_fpath= '/mnt/antares_raid/home/oliver/Experiments/{}/R/activations/activity.hdf5'.format(date)"
   ]
  },
  {
   "cell_type": "code",
   "execution_count": null,
   "metadata": {
    "collapsed": false,
    "scrolled": true
   },
   "outputs": [],
   "source": [
    "store_layerwise_activations(net_prototxt, model, phase, keys, n, dst_fpath)"
   ]
  },
  {
   "cell_type": "code",
   "execution_count": null,
   "metadata": {
    "collapsed": false
   },
   "outputs": [],
   "source": [
    "#ROTATION ANGLES\n",
    "rot_lmdb_path =  '/mnt/raid/dnn/data_oliver/lmdb/MNIST_TRAIN_60000_rot_ang_lmdb/shuffled/'\n",
    "\n",
    "lmdb_env = lmdb.open(rot_lmdb_path)\n",
    "lmdb_txn = lmdb_env.begin()\n",
    "lmdb_cursor = lmdb_txn.cursor()\n",
    "R = []\n",
    "im_count = 0\n",
    "for key, value in lmdb_cursor:\n",
    "        R.append(value)\n",
    "Rot = np.asarray([float(r) for r in R])\n",
    "Rot = Rot - np.min(Rot)\n",
    "Rot = Rot/np.max(Rot)\n",
    "    "
   ]
  },
  {
   "cell_type": "code",
   "execution_count": null,
   "metadata": {
    "collapsed": false
   },
   "outputs": [],
   "source": [
    "# CORRELATIONS\n",
    "dst_fpath='/mnt/antares_raid/home/oliver/Experiments/R/activations/activity.hdf5'\n",
    "keys = ['encode1neuron', 'encode2neuron', 'encode3neuron', 'encode4neuron']\n",
    "\n",
    "import scipy \n",
    "C = {k:{} for k in keys}\n",
    "with h5py.File(dst_fpath, \"r\") as f: #f[k]: n*batchsize x 784\n",
    "    for k in f:\n",
    "        print(k)\n",
    "        for nr, r in enumerate(list(set(Rot))):\n",
    "            print(r)\n",
    "            Rot_r = np.copy(Rot)\n",
    "            Rot_r[Rot_r != r] = 0.\n",
    "            C[k].update({str(r): np.array([scipy.stats.pearsonr(Rot_r,f[k][:,i] ) for i in range(f[k].shape[1] )] )})\n"
   ]
  },
  {
   "cell_type": "markdown",
   "metadata": {},
   "source": [
    "## Activity distributions"
   ]
  },
  {
   "cell_type": "code",
   "execution_count": null,
   "metadata": {
    "collapsed": false
   },
   "outputs": [],
   "source": [
    "\n",
    "date = '2408'\n",
    "snap = '390000'\n",
    "dst_fpath= '/mnt/antares_raid/home/oliver/Experiments/{}/R/activations/activity.hdf5'.format(date)\n",
    "keys = ['encode1neuron', 'encode2neuron', 'encode3neuron', 'encode4neuron']\n",
    "\n",
    "dst_fpath= '/mnt/antares_raid/home/oliver/Experiments/{}/R/activations/activity.hdf5'.format(date)\n",
    "\n",
    "S = ReportInterface()\n",
    "#S.__save_dict_to_hdf5__(C, dst_fpath)\n",
    "\n",
    "CL = S.__load_dict_from_hdf5__(dst_fpath)\n"
   ]
  },
  {
   "cell_type": "code",
   "execution_count": null,
   "metadata": {
    "collapsed": false
   },
   "outputs": [],
   "source": [
    "#ROTATION ANGLES\n",
    "rot_lmdb_path =  '/mnt/raid/dnn/data_oliver/lmdb/MNIST_TRAIN_60000_rot_ang_lmdb/shuffled/'\n",
    "\n",
    "lmdb_env = lmdb.open(rot_lmdb_path)\n",
    "lmdb_txn = lmdb_env.begin()\n",
    "lmdb_cursor = lmdb_txn.cursor()\n",
    "R = []\n",
    "im_count = 0\n",
    "for key, value in lmdb_cursor:\n",
    "        R.append(value)\n",
    "Rot = np.asarray([float(r) for r in R])\n",
    "\n",
    "\n",
    "for layer in ['encode1neuron','encode2neuron','encode3neuron','encode4neuron' ]:\n",
    "    print(layer)\n",
    "    for neuron_nr, v in enumerate(CL[layer].T):\n",
    "\n",
    "        if neuron_nr%16 ==0:\n",
    "            plt.figure(figsize= (18, 8*6))\n",
    "\n",
    "        plt.subplot(8,2,neuron_nr + 1)\n",
    "        #plt.subplot(4,28*7,neuron_nr + 1)\n",
    "        #v = v\n",
    "        #inds = np.argsort(v)\n",
    "        #act_ord = v[inds]\n",
    "        #rot_ord = Rot[inds]\n",
    "        #plt.scatter(range(len(act_ord)),act_ord, c = rot_ord, marker = 'x', s=100)\n",
    "        #plt.scatter(Rot[:1000],v, c = Rot[:1000], marker = 'x', s=100)\n",
    "\n",
    "        l=[]\n",
    "        angs = np.sort(list(set(Rot)))\n",
    "        for ang in angs:\n",
    "            plt.hist(v[Rot==ang], bins = 100)\n",
    "            l.append('{:0.0f}$^\\circ$'.format(ang))\n",
    "        plt.legend(l, mode=\"expand\", ncol=7)\n",
    "        plt.title('Neuron {}: Rotation-wise activity histogram'.format(neuron_nr) )\n",
    "        plt.xlabel('Activity')\n",
    "        plt.ylabel('Frequency')\n",
    "        if (neuron_nr+1)%16 == 0:\n",
    "            plt.show()\n",
    "            break\n",
    "\n",
    "    \n",
    "    \n"
   ]
  },
  {
   "cell_type": "markdown",
   "metadata": {
    "collapsed": false
   },
   "source": [
    "\n",
    "## Kullback-Leibler $KL(P(act./rot)  | | P(act))$"
   ]
  },
  {
   "cell_type": "code",
   "execution_count": null,
   "metadata": {
    "collapsed": false
   },
   "outputs": [],
   "source": [
    "date = '2408'\n",
    "snap = '390000'\n",
    "dst_fpath= '/mnt/antares_raid/home/oliver/Experiments/{}/R/activations/activity.hdf5'.format(date)\n",
    "keys = ['encode1neuron', 'encode2neuron', 'encode3neuron', 'encode4neuron']\n",
    "\n",
    "dst_fpath= '/mnt/antares_raid/home/oliver/Experiments/{}/R/activations/activity.hdf5'.format(date)\n",
    "\n",
    "S = ReportInterface()\n",
    "#S.__save_dict_to_hdf5__(C, dst_fpath)\n",
    "\n",
    "CL = S.__load_dict_from_hdf5__(dst_fpath)\n"
   ]
  },
  {
   "cell_type": "code",
   "execution_count": null,
   "metadata": {
    "collapsed": false
   },
   "outputs": [],
   "source": [
    "#ROTATION ANGLES\n",
    "rot_lmdb_path =  '/mnt/raid/dnn/data_oliver/lmdb/MNIST_TRAIN_60000_rot_ang_lmdb/shuffled/'\n",
    "\n",
    "lmdb_env = lmdb.open(rot_lmdb_path)\n",
    "lmdb_txn = lmdb_env.begin()\n",
    "lmdb_cursor = lmdb_txn.cursor()\n",
    "R = []\n",
    "im_count = 0\n",
    "for key, value in lmdb_cursor:\n",
    "        R.append(value)\n",
    "Rot = np.asarray([float(r) for r in R])"
   ]
  },
  {
   "cell_type": "code",
   "execution_count": null,
   "metadata": {
    "collapsed": false
   },
   "outputs": [],
   "source": [
    "angs = np.sort(list(set(Rot)))\n",
    "\n",
    "print(angs)\n"
   ]
  },
  {
   "cell_type": "code",
   "execution_count": null,
   "metadata": {
    "collapsed": false
   },
   "outputs": [],
   "source": [
    "import scipy\n",
    "layer = 'encode1neuron'\n",
    "KL = [[] for n,_ in enumerate(CL[layer].T)]\n",
    "\n",
    "for neuron_nr, v in enumerate(CL[layer].T):\n",
    "    for r in angs:\n",
    "        p, _ = np.histogram(v[Rot==r],bins = 100, density = True) # p = P(act/rot)\n",
    "        q, _ = np.histogram(v[Rot!=r],bins = 100, density = True) # q = P(act)\n",
    "        KL[neuron_nr].append(scipy.stats.entropy(p,q))\n",
    "        "
   ]
  },
  {
   "cell_type": "code",
   "execution_count": null,
   "metadata": {
    "collapsed": false,
    "scrolled": false
   },
   "outputs": [],
   "source": [
    "print(np.shape(KL))\n",
    "\n",
    "for neuron_nr in range(30):\n",
    "    plt.plot(angs,KL[neuron_nr], marker = 'x')\n",
    "    plt.xticks(angs, ['{:0.0f}'.format(a) for a in angs])\n",
    "    plt.title('$KL(P(act./rot)  | | P(act))$ for neuron {}'.format(neuron_nr) )\n",
    "    plt.xlabel('Rotation angles in $^{\\circ}$')\n",
    "    plt.ylabel('KL')\n",
    "    plt.show()"
   ]
  },
  {
   "cell_type": "code",
   "execution_count": null,
   "metadata": {
    "collapsed": false,
    "scrolled": false
   },
   "outputs": [],
   "source": [
    "KL_clean = []\n",
    "KL_naninf = []\n",
    "for neuron_nr, k in enumerate(KL):\n",
    "    if np.isinf(k).any() or np.isnan(k).any():\n",
    "        KL_naninf.append(neuron_nr)\n",
    "        pass\n",
    "    else:\n",
    "        KL_clean.append(k/np.sum(k))\n",
    "\n",
    "#KL_clean = [np.asarray(k)[~np.isnan(np.asarray(k)) & ~np.isinf(np.asarray(k)) ] for k in KL]\n",
    "KL_clean = np.asarray(KL_clean)\n",
    "\n",
    "fig = plt.figure(figsize = (16,6))\n",
    "ax = fig.add_subplot(121)\n",
    "ax.boxplot(list(np.array(KL).T))\n",
    "plt.xticks(range(1,len(angs)+1), ['{:0.0f}'.format(a) for a in angs])\n",
    "\n",
    "ax = fig.add_subplot(122)\n",
    "#print(KL_clean)\n",
    "KL_mean = np.mean(KL_clean, axis = 0)\n",
    "plt.plot(angs, KL_mean)\n",
    "plt.title('Averaged KL distribution')\n",
    "plt.show()"
   ]
  },
  {
   "cell_type": "markdown",
   "metadata": {
    "collapsed": true
   },
   "source": [
    "## $KL(p_{act.} //p_{mean})$"
   ]
  },
  {
   "cell_type": "code",
   "execution_count": null,
   "metadata": {
    "collapsed": false
   },
   "outputs": [],
   "source": [
    "n_score = []\n",
    "for p in KL_clean:\n",
    "    n_score.append(scipy.stats.entropy(p,KL_mean))\n",
    "    "
   ]
  },
  {
   "cell_type": "code",
   "execution_count": null,
   "metadata": {
    "collapsed": false,
    "scrolled": false
   },
   "outputs": [],
   "source": [
    "plt.hist(n_score, bins = 100)\n",
    "plt.xlabel('Similarity')\n",
    "plt.ylabel('Frequency')\n",
    "plt.show()"
   ]
  },
  {
   "cell_type": "code",
   "execution_count": null,
   "metadata": {
    "collapsed": false
   },
   "outputs": [],
   "source": [
    "print(KL_naninf)"
   ]
  },
  {
   "cell_type": "code",
   "execution_count": 2,
   "metadata": {
    "collapsed": false
   },
   "outputs": [
    {
     "name": "stdout",
     "output_type": "stream",
     "text": [
      "Initialization\n"
     ]
    }
   ],
   "source": [
    "# Test Activity Analyser\n",
    "import caffe\n",
    "phase = caffe.TRAIN\n",
    "from ActivityAnalyser import ActivityAnalyser \n",
    "\n",
    "date = '2408'\n",
    "snap = '390000'\n",
    "caffemodels =  ['/mnt/antares_raid/home/oliver/Experiments/{}/R/snapshots/_iter_{}.caffemodel'.format(date,snap),\n",
    "                '/mnt/antares_raid/home/oliver/Experiments/{}/UR/snapshots/_iter_{}.caffemodel'.format(date,snap),\n",
    "                '/mnt/antares_raid/home/oliver/Experiments/{}/N25NR/snapshots/_iter_{}.caffemodel'.format(date,snap),\n",
    "                '/mnt/antares_raid/home/oliver/Experiments/{}/N25NUR/snapshots/_iter_{}.caffemodel'.format(date,snap),\n",
    "                '/mnt/antares_raid/home/oliver/Experiments/{}/N50NR/snapshots/_iter_{}.caffemodel'.format(date,snap),\n",
    "                '/mnt/antares_raid/home/oliver/Experiments/{}/N50NUR/snapshots/_iter_{}.caffemodel'.format(date,snap)\n",
    "                ]\n",
    "phase = caffe.TRAIN\n",
    "net_prototxt = '/mnt/antares_raid/home/oliver/Experiments/{}/MLP/AER/MLP_net.prototxt'.format(date)\n",
    "keys=['encode1neuron', 'encode2neuron', 'encode3neuron', 'encode4neuron'] \n",
    "model = '/mnt/antares_raid/home/oliver/Experiments/{}/R/snapshots/_iter_{}.caffemodel'.format(date,snap)\n",
    "\n",
    "lmdb_path =  '/mnt/raid/ni/oliver/lmdb/MNIST_TRAIN_60000_rot_lmdb/shuffled/'\n",
    "keys = ['encode1neuron', 'encode2neuron', 'encode3neuron', 'encode4neuron']\n",
    "n = 780\n",
    "dst_fpath= '/mnt/antares_raid/home/oliver/Experiments/{}/R/activations/'.format(date)\n",
    "rot_lmdb_path =  '/mnt/raid/ni/oliver/lmdb/MNIST_TRAIN_60000_rot_ang_lmdb/shuffled/'\n",
    "\n",
    "\n",
    "A = ActivityAnalyser(net_prototxt, model, phase, keys, n, dst_fpath, rot_lmdb_path)\n",
    "#a = A.__call__()"
   ]
  },
  {
   "cell_type": "code",
   "execution_count": 3,
   "metadata": {
    "collapsed": false,
    "scrolled": true
   },
   "outputs": [
    {
     "name": "stdout",
     "output_type": "stream",
     "text": [
      "Activations\n",
      "KL_anglewise\n",
      "Create KL_anglewise\n",
      "Created KL_anglewise\n",
      "KL_mean\n",
      "Selectivity_score\n"
     ]
    }
   ],
   "source": [
    "a = A.__call__()"
   ]
  },
  {
   "cell_type": "code",
   "execution_count": 4,
   "metadata": {
    "collapsed": false,
    "scrolled": false
   },
   "outputs": [
    {
     "data": {
      "image/png": "[encoded data removed]",
      "text/plain": [
       "<matplotlib.figure.Figure at 0x7f0f80b2fbd0>"
      ]
     },
     "metadata": {},
     "output_type": "display_data"
    },
    {
     "data": {
      "image/png": "[encoded data removed]",
      "text/plain": [
       "<matplotlib.figure.Figure at 0x7f0f80b69fd0>"
      ]
     },
     "metadata": {},
     "output_type": "display_data"
    },
    {
     "data": {
      "image/png": "[encoded data removed]",
      "text/plain": [
       "<matplotlib.figure.Figure at 0x7f0f80ad2c50>"
      ]
     },
     "metadata": {},
     "output_type": "display_data"
    },
    {
     "data": {
      "image/png": "[encoded data removed]",
      "text/plain": [
       "<matplotlib.figure.Figure at 0x7f0d393f7b90>"
      ]
     },
     "metadata": {},
     "output_type": "display_data"
    },
    {
     "data": {
      "text/plain": [
       "['encode2neuron', 'encode3neuron', 'encode1neuron', 'encode4neuron']"
      ]
     },
     "execution_count": 4,
     "metadata": {},
     "output_type": "execute_result"
    }
   ],
   "source": [
    "for k,v in a.iteritems():\n",
    "    plt.hist(v, bins = 100)\n",
    "    plt.xlabel('Similarity')\n",
    "    plt.ylabel('Frequency')\n",
    "    plt.title(k)\n",
    "    plt.show()\n",
    "\n",
    "a.keys()"
   ]
  },
  {
   "cell_type": "code",
   "execution_count": null,
   "metadata": {
    "collapsed": false
   },
   "outputs": [],
   "source": [
    "a['encode2neuron'] == a['encode3neuron']"
   ]
  },
  {
   "cell_type": "code",
   "execution_count": null,
   "metadata": {
    "collapsed": false
   },
   "outputs": [],
   "source": [
    "import cPickle as pickle\n",
    "KL = pickle.load(open(dst_fpath + 'KL_anglewise.p','r'))\n"
   ]
  },
  {
   "cell_type": "code",
   "execution_count": null,
   "metadata": {
    "collapsed": false,
    "scrolled": true
   },
   "outputs": [],
   "source": [
    "KL['encode1neuron'] == KL['encode2neuron']"
   ]
  },
  {
   "cell_type": "code",
   "execution_count": null,
   "metadata": {
    "collapsed": true
   },
   "outputs": [],
   "source": []
  }
 ],
 "metadata": {
  "kernelspec": {
   "display_name": "Python 2",
   "language": "python",
   "name": "python2"
  },
  "language_info": {
   "codemirror_mode": {
    "name": "ipython",
    "version": 2
   },
   "file_extension": ".py",
   "mimetype": "text/x-python",
   "name": "python",
   "nbconvert_exporter": "python",
   "pygments_lexer": "ipython2",
   "version": "2.7.6"
  }
 },
 "nbformat": 4,
 "nbformat_minor": 0
}
