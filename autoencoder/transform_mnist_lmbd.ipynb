{
 "cells": [
  {
   "cell_type": "code",
   "execution_count": null,
   "metadata": {
    "collapsed": false
   },
   "outputs": [],
   "source": [
    "import caffe\n",
    "import lmdb\n",
    "import numpy as np\n",
    "import cv2\n",
    "import io\n",
    "import os\n",
    "import numpy as np\n",
    "import matplotlib.pyplot as plt"
   ]
  },
  {
   "cell_type": "code",
   "execution_count": null,
   "metadata": {
    "collapsed": false
   },
   "outputs": [],
   "source": [
    "def rotate_image(im, angle):\n",
    "    rows,cols = im.shape\n",
    "    M = cv2.getRotationMatrix2D((cols/2,rows/2),angle,1)\n",
    "    return cv2.warpAffine(im,M,(cols,rows))\n",
    "\n",
    "def shuffle_samples_lmdb(path_lmdb, path_dst, keys):\n",
    "    \"\"\"\n",
    "    Copy select samples from an lmdb into another.\n",
    "    Can be used for sampling from an lmdb into another and generating a random shuffle\n",
    "    of lmdb content.\n",
    "    \n",
    "    Parameters:\n",
    "    path_lmdb -- source lmdb\n",
    "    path_dst -- destination lmdb\n",
    "    keys -- list of keys or indices to sample from source lmdb\n",
    "    \"\"\"\n",
    "    MAP_SZ = int(1e12)\n",
    "    NUM_IDX_DIGITS = 10\n",
    "    IDX_FMT = '{:0>%d' % NUM_IDX_DIGITS + 'd}'\n",
    "    db = lmdb.open(path_dst, map_size=MAP_SZ)\n",
    "    key_dst = 0\n",
    "    with db.begin(write=True) as txn_dst:\n",
    "        with lmdb.open(path_lmdb, readonly=True).begin() as txn_src: \n",
    "            for key_src in keys:\n",
    "                ########################\n",
    "                if not isinstance(key_src, basestring):\n",
    "                    key_src = IDX_FMT.format(key_src)\n",
    "                txn_dst.put(IDX_FMT.format(key_dst), txn_src.get(key_src))\n",
    "                key_dst += 1\n",
    "   \n",
    "                \n",
    "                ########################\n",
    "                \n",
    "            #if not isinstance(key_src, basestring):\n",
    "                #    key_src = IDX_FMT.format(key_src)\n",
    "                #    \n",
    "                #datum_from = caffe.proto.caffe_pb2.Datum()#\n",
    "\n",
    "            #    datum_from.ParseFromString(txn_src.get(key_src))\n",
    "\n",
    "             #   datum_to = caffe.proto.caffe_pb2.Datum()\n",
    "               # datum_to.label = datum_from.label\n",
    "              #  datum_to.data = datum_from.data\n",
    "                \n",
    "                #txn_dst.put(IDX_FMT.format(key_dst),  datum_to.SerializeToString())\n",
    "                #key_dst += 1\n",
    "                # if key_dst ==5:\n",
    "                # break\n",
    "    db.close()\n",
    "    \n",
    "    \n",
    "\n",
    "    \n",
    "def create_shuffled_ind(lmdb_dir, txt_save_dir):\n",
    "    NUM_IDX_DIGITS = 10\n",
    "    IDX_FMT = '{:0>%d' % NUM_IDX_DIGITS + 'd}'\n",
    "    db = lmdb.open(lmdb_dir)\n",
    "    N_im = db.stat()['entries']\n",
    "    ind = range(N_im)\n",
    "    print('Indices created', N_im)\n",
    "    np.random.shuffle(ind)\n",
    "    keys_shuffled = [IDX_FMT.format(i) for i in ind]\n",
    "\n",
    "    import json\n",
    "    if not os.path.exists(txt_save_dir):\n",
    "        os.makedirs(txt_save_dir)\n",
    "    \n",
    "    f = open(txt_save_dir + '/indices_list.txt', 'w')\n",
    "    json.dump(keys_shuffled, f)\n",
    "    f.close()\n",
    "    return ind\n",
    "\n",
    "def load_N_MNIST_images(N,path):\n",
    "    #path = '/mnt/antares_raid/home/oliver/adhara/src/caffe/examples/mnist/mnist_train_lmdb'\n",
    "    lmdb_env = lmdb.open(path)\n",
    "    lmdb_txn = lmdb_env.begin()\n",
    "    lmdb_cursor = lmdb_txn.cursor()\n",
    "    datum_db = caffe.proto.caffe_pb2.Datum()\n",
    "    I = []\n",
    "    Label = []\n",
    "    im_count = 0\n",
    "    for key, value in lmdb_cursor:\n",
    "            datum_db.ParseFromString(value)\n",
    "            label = datum_db.label\n",
    "            data = caffe.io.datum_to_array(datum_db)\n",
    "            im = data.astype(np.uint8)\n",
    "            im = np.transpose(im, (2, 1, 0)) # original (dim, col, row)\n",
    "            I.append(im.squeeze())\n",
    "            Label.append(datum_db.label)\n",
    "            im_count = im_count + 1\n",
    "            \n",
    "            if im_count >= N:\n",
    "                break\n",
    "    return I, Label\n",
    "\n"
   ]
  },
  {
   "cell_type": "code",
   "execution_count": null,
   "metadata": {
    "collapsed": false
   },
   "outputs": [],
   "source": [
    "IMG = load_N_MNIST_images(10,'/mnt/antares_raid/home/oliver/adhara/src/caffe/examples/mnist/mnist_train_lmdb')\n",
    "#for i in range(IMG.shape[2]):\n",
    "#    plt.imshow(IMG[:,:,i].T)\n",
    "#    plt.show()\n",
    "\n",
    "#for key, value in lmdb_cursor:\n",
    "#            datum_db.ParseFromString(value)\n",
    "#            label = datum_db.label\n",
    "#            data = caffe.io.datum_to_array(datum_db)\n",
    "#            im = data.astype(np.uint8)\n",
    "#            im = np.transpose(im, (2, 1, 0)) # original (dim, col, row)\n",
    "#            im_count = im_count + 1\n",
    "#            if im_count > N_im_total:\n",
    "#                break\n",
    "#            # Loop over images in database\n",
    "print(IMG[1].shape)"
   ]
  },
  {
   "cell_type": "code",
   "execution_count": null,
   "metadata": {
    "collapsed": false,
    "scrolled": true
   },
   "outputs": [],
   "source": [
    "set_strings = ['_TRAIN_', '_TEST_ON_TRAIN_', '_TEST_']\n",
    "dir_strings = ['_train_', '_train_', '_test_']\n",
    "NUM_IDX_DIGITS = 10\n",
    "IDX_FMT = '{:0>%d' % NUM_IDX_DIGITS + 'd}'\n",
    "\n",
    "N_im = 1000  #Size of images used from MNIST\n",
    "batch_size = 1000\n",
    "home_dir = '/mnt/antares_raid/home/oliver/Scripts/autoencoder'\n",
    "\n",
    "for set_st, dir_str in zip(set_strings, dir_strings):\n",
    "    set_str = set_st + str(N_im) + '_'\n",
    "\n",
    "    #Create angles\n",
    "    angles = range(-90,90+1,15)\n",
    "\n",
    "    #Load MNIST Database\n",
    "    IMG, LABEL = load_N_MNIST_images(N_im,'/mnt/antares_raid/home/oliver/adhara/src/caffe/examples/mnist/mnist' + dir_str + 'lmdb')\n",
    "   # N_im = db.stat()['entries']\n",
    "\n",
    "\n",
    "    #N_im = lmdb_env.stat()['entries']\n",
    "    N = np.dot(np.shape(angles),N_im)\n",
    "    N = N[0]\n",
    "    # Let's pretend this is interesting data\n",
    "    #X = np.zeros((N, 1, 28, 28), dtype=np.uint8)\n",
    "    #y = np.zeros(N, dtype=np.int64)\n",
    "\n",
    "\n",
    "    map_size = N*28*28*100\n",
    "\n",
    "    # Transformed MNIST Database\n",
    "    #env_rot = lmdb.open(home_dir + '/MNIST' + set_str + 'rot_lmdb/', map_size=map_size)\n",
    "    #env_rot_ang = lmdb.open(home_dir + '/MNIST' + set_str + 'rot_ang_lmdb/',map_size=int(1e12))\n",
    "    #datum = caffe.proto.caffe_pb2.Datum()\n",
    "\n",
    "\n",
    "    rot_angs = np.zeros(N)\n",
    "    im_count = 0\n",
    "    #Looping over batches\n",
    "    for idx in range(int(np.ceil(N/batch_size))):\n",
    "        count = 0\n",
    "        env_rot = lmdb.open(home_dir + 'MNIST' + set_str + 'rot_lmdb/', map_size=map_size)\n",
    "        env_rot_ang = lmdb.open(home_dir + 'MNIST' + set_str + 'rot_ang_lmdb/',map_size=int(1e12))\n",
    "        env_unrot_ang = lmdb.open(home_dir + 'MNIST' + set_str + 'unrot_lmdb/',map_size=map_size)\n",
    "\n",
    "        with env_rot.begin(write=True) as txn:    \n",
    "            with env_unrot_ang.begin(write=True) as txn_unrot_ang:\n",
    "                with env_rot_ang.begin(write=True) as txn_rot_ang:\n",
    "                    # Looping over images from MNIST\n",
    "                    for  in_, lab_ in zip(IMG[(batch_size*idx):(batch_size*(idx+1))], LABEL[(batch_size*idx):(batch_size*(idx+1))]):\n",
    "                        im = in_\n",
    "                        label = lab_\n",
    "                        for angle in angles:\n",
    "                            #Prepare data\n",
    "                            X = rotate_image(im.squeeze(), angle)\n",
    "                            X = np.reshape(X,[1,28,28])\n",
    "                            \n",
    "                            datum = caffe.io.array_to_datum(X.astype(float), label)\n",
    "                           #  if in_idx ==1:\n",
    "                           #     print(X.astype(float).shape)\n",
    "                            #datum.channels = X.shape[0]\n",
    "                            #datum.height = X.shape[1]\n",
    "                            #datum.width = X.shape[2]\n",
    "                            #datum.data = X.tostring()  # or .tostring() if numpy < 1.9\n",
    "\n",
    "                            #datum.label = label\n",
    "                            rot_angs[count] = str(angle) # \"{0}\".format(angle)\n",
    "                            str_id = IDX_FMT.format(batch_size*len(angles)idx + count)\n",
    "                            #if count%100==0:\n",
    "                            #    print(str_id)\n",
    "                            #print(datum)\n",
    "\n",
    "                            # The encode is only essential in Python 3\n",
    "                            txn.put(str_id, datum.SerializeToString())\n",
    "                            txn_rot_ang.put(str_id, str(angle) )\n",
    "                            \n",
    "                            #Storing unroted images\n",
    "                            datum_unrot = caffe.io.array_to_datum(np.reshape(im.squeeze(),[1,28,28]).astype(float), label)\n",
    "\n",
    "                            txn_unrot_ang.put(str_id, datum_unrot.SerializeToString()) \n",
    "                            count = count + 1\n",
    "                            \n",
    "                env_rot_ang.close()\n",
    "            env_unrot_ang.close()\n",
    "        env_rot.close()\n",
    "        \n",
    "    src_dir = '/mnt/antares_raid/home/oliver/Scripts/autoencoder/MNIST' + set_str + 'rot_lmdb'\n",
    "    dst_dir = '/mnt/antares_raid/home/oliver/Scripts/autoencoder/MNIST' + set_str + 'rot_lmdb/shuffled'\n",
    "\n",
    "    ind = create_shuffled_ind(src_dir, dst_dir)\n",
    "    \n",
    "    shuffle_samples_lmdb(src_dir, dst_dir, ind)\n",
    "\n",
    "    src_dir = '/mnt/antares_raid/home/oliver/Scripts/autoencoder/MNIST' + set_str + 'rot_ang_lmdb'\n",
    "    dst_dir = '/mnt/antares_raid/home/oliver/Scripts/autoencoder/MNIST' + set_str + 'rot_ang_lmdb/shuffled'\n",
    "    shuffle_samples_lmdb(src_dir, dst_dir, ind)\n",
    "\n",
    "    src_dir = '/mnt/antares_raid/home/oliver/Scripts/autoencoder/MNIST' + set_str + 'unrot_lmdb'\n",
    "    dst_dir = '/mnt/antares_raid/home/oliver/Scripts/autoencoder/MNIST' + set_str + 'unrot_lmdb/shuffled'\n",
    "    shuffle_samples_lmdb(src_dir, dst_dir, ind)\n",
    "\n"
   ]
  },
  {
   "cell_type": "code",
   "execution_count": null,
   "metadata": {
    "collapsed": false
   },
   "outputs": [],
   "source": [
    "lmdb_txn = env_rot.begin()\n",
    "lmdb_cursor = lmdb_txn.cursor()\n",
    "datum = caffe.proto.caffe_pb2.Datum()\n",
    "i=0\n",
    "for key, value in lmdb_cursor:\n",
    "    datum.ParseFromString(value)\n",
    "    print(key)\n",
    "    label = datum.label\n",
    "    data = caffe.io.datum_to_array(datum)\n",
    "    im = data.astype(np.uint8)\n",
    "    im = np.transpose(im, (2, 1, 0)) # original (dim, col, row)\n",
    "    print(im.shape)\n",
    "    print \"label \", label\n",
    "\n",
    "    print(im.shape)\n",
    "    i= i+1\n",
    "    if i ==3:\n",
    "        break"
   ]
  },
  {
   "cell_type": "code",
   "execution_count": null,
   "metadata": {
    "collapsed": false
   },
   "outputs": [],
   "source": [
    "lmdb_env = lmdb.open('/mnt/antares_raid/home/oliver/adhara/src/caffe/examples/mnist/mnist_train_lmdb')\n",
    "lmdb_txn = lmdb_env.begin()\n",
    "lmdb_cursor = lmdb_txn.cursor()\n",
    "datum = caffe.proto.caffe_pb2.Datum()\n",
    "\n",
    "#lmdb_shuf = lmdb.open('/mnt/antares_raid/home/oliver/Scripts/autoencoder/MNIST_rot_lmdb/shuffled')\n",
    "#lmdb_txn_shuf = lmdb_shuf.begin()\n",
    "#lmdb_cursor_shuf = lmdb_txn_shuf.cursor()\n",
    "\n",
    "\n",
    "lmdb_rot = lmdb.open('/mnt/antares_raid/home/oliver/Scripts/autoencoder/MNIST' + set_str +'rot_lmdb')\n",
    "lmdb_txn_rot = lmdb_rot.begin()\n",
    "lmdb_cursor_rot = lmdb_txn_rot.cursor()\n",
    "\n",
    "\n",
    "lmdb_rot_ang = lmdb.open('/mnt/antares_raid/home/oliver/Scripts/autoencoder/MNIST' + set_str + 'rot_lmdb/shuffled/')\n",
    "lmdb_txn_rot_ang = lmdb_rot_ang.begin()\n",
    "lmdb_cursor_rot_ang = lmdb_txn_rot_ang.cursor()\n",
    "\n",
    "i=0\n",
    "for key, value in lmdb_cursor:\n",
    "    datum.ParseFromString(value)\n",
    "    #print(datum.channels)\n",
    "    label = datum.label\n",
    "    data = caffe.io.datum_to_array(datum)\n",
    "    im1 = data.astype(np.uint8)\n",
    "    plt.imshow(im1.squeeze())\n",
    "    plt.title(label)\n",
    "    plt.show()\n",
    "    #print(im.sha\n",
    "    #im1 = np.transpose(im, (2, 1, 0)) # original (dim, col, row)\n",
    "    #print(\"label \", label)\n",
    "    #plt.imshow(im1.squeeze())\n",
    "    #plt.title(label)\n",
    "    #plt.show()\n",
    "    #print(im.shape)\n",
    "    i= i+1\n",
    "    if i ==5:\n",
    "        i=0\n",
    "        break\n",
    "         \n",
    "print('rotated')\n",
    "        \n",
    "for  key, value in lmdb_cursor_rot_ang: \n",
    "    #print(key, value)\n",
    "    datum.ParseFromString(value)\n",
    "    #print(datum.channels)\n",
    "    label = datum.label\n",
    "    data = caffe.io.datum_to_array(datum)\n",
    "    im = data.astype(np.uint8)\n",
    "    #im = np.transpose(im, (2, 1, 0)) # original (dim, col, row)\n",
    "    #print(\"label \", label)\n",
    "    # print(key,value)\n",
    "    # print(im.shape)\n",
    "    plt.imshow(im.T.squeeze())\n",
    "    plt.title(str(label) + '_' + ang_rot)\n",
    "    #print(key_rot, ang_rot)\n",
    "    #print(key,value)\n",
    "    \n",
    "    plt.show()\n",
    "    #print(im.shape)\n",
    "    i= i+1\n",
    "    if i ==10:\n",
    "        break"
   ]
  },
  {
   "cell_type": "code",
   "execution_count": null,
   "metadata": {
    "collapsed": false
   },
   "outputs": [],
   "source": []
  },
  {
   "cell_type": "code",
   "execution_count": null,
   "metadata": {
    "collapsed": false,
    "scrolled": true
   },
   "outputs": [],
   "source": [
    "print(set_str)\n",
    "#shuffled_ind = open('/mnt/antares_raid/home/oliver/Scripts/autoencoder/MNIST_rot_lmdb/mylmdb/keys_shuffled.txt', 'r')\n",
    "src_dir = '/mnt/antares_raid/home/oliver/Scripts/autoencoder/MNIST' + set_str + 'rot_lmdb'\n",
    "dst_dir = '/mnt/antares_raid/home/oliver/Scripts/autoencoder/MNIST' + set_str + 'rot_lmdb/shuffled'\n",
    "    \n",
    "ind = create_shuffled_ind(src_dir, dst_dir)\n",
    "\n",
    "shuffle_samples_lmdb(src_dir, dst_dir, ind)\n",
    "\n",
    "src_dir = '/mnt/antares_raid/home/oliver/Scripts/autoencoder/MNIST' + set_str + 'rot_ang_lmdb'\n",
    "dst_dir = '/mnt/antares_raid/home/oliver/Scripts/autoencoder/MNIST' + set_str + 'rot_ang_lmdb/shuffled'\n",
    "shuffle_samples_lmdb(src_dir, dst_dir, ind)"
   ]
  },
  {
   "cell_type": "code",
   "execution_count": null,
   "metadata": {
    "collapsed": false
   },
   "outputs": [],
   "source": [
    "lmdb.open('/mnt/antares_raid/home/oliver/Scripts/autoencoder/MNIST' + set_str 'rot_lmdb')\n",
    "np.shape(ind)"
   ]
  },
  {
   "cell_type": "code",
   "execution_count": null,
   "metadata": {
    "collapsed": false
   },
   "outputs": [],
   "source": [
    "#N_im_total = 1000\n",
    "N_im = 1000\n",
    "set_str = '_TRAIN_' + str(N_im) + '_'\n",
    "lmdb_env = lmdb.open('/mnt/antares_raid/home/oliver/adhara/src/caffe/examples/mnist/mnist_test_lmdb')\n",
    "lmdb_shuf = lmdb.open('/mnt/antares_raid/home/oliver/Scripts/autoencoder/MNIST' + set_str + 'rot_lmdb/shuffled/')\n",
    "lmdb_rot = lmdb.open('/mnt/antares_raid/home/oliver/Scripts/autoencoder/MNIST' + set_str +'rot_lmdb/')\n",
    "lmdb_rot_ang = lmdb.open('/mnt/antares_raid/home/oliver/Scripts/autoencoder/MNIST' + set_str + 'rot_ang_lmdb/')\n",
    "lmdb_rot_ang_shuf = lmdb.open('/mnt/antares_raid/home/oliver/Scripts/autoencoder/MNIST' + set_str + 'rot_ang_lmdb/shuffled/')\n",
    "print(lmdb_env.stat())\n",
    "print(lmdb_shuf.stat())\n",
    "print(lmdb_rot.stat())\n",
    "print(lmdb_rot_ang.stat())\n",
    "print(lmdb_rot_ang_shuf.stat())"
   ]
  },
  {
   "cell_type": "code",
   "execution_count": null,
   "metadata": {
    "collapsed": false
   },
   "outputs": [],
   "source": [
    "print('/mnt/antares_raid/home/oliver/Scripts/autoencoder/MNIST' + set_str + 'rot_lmdb/shuffled')"
   ]
  },
  {
   "cell_type": "code",
   "execution_count": null,
   "metadata": {
    "collapsed": false
   },
   "outputs": [],
   "source": [
    "angles = range(90,180+1,10)\n",
    "print(angles,len(angles))"
   ]
  },
  {
   "cell_type": "code",
   "execution_count": null,
   "metadata": {
    "collapsed": false
   },
   "outputs": [],
   "source": [
    "plt.imshow(im1.squeeze())\n",
    "plt.show()\n",
    "plt.imshow(rotate_image(im1.squeeze(),90))\n",
    "plt.show()"
   ]
  },
  {
   "cell_type": "code",
   "execution_count": null,
   "metadata": {
    "collapsed": false
   },
   "outputs": [],
   "source": [
    "len(np.linspace(-90,90,10))\n"
   ]
  },
  {
   "cell_type": "code",
   "execution_count": null,
   "metadata": {
    "collapsed": false
   },
   "outputs": [],
   "source": [
    "lmdb_rot_ang = lmdb.open('/mnt/antares_raid/home/oliver/Scripts/autoencoder/MNIST_rot_ang_lmdb')\n",
    "lmdb_txn_rot_ang = lmdb_rot_ang.begin()\n",
    "lmdb_cursor_rot_ang = lmdb_txn_rot_ang.cursor()\n",
    "i=0\n",
    "for a,b in lmdb_cursor_rot_ang:\n",
    "    print(a,b)\n",
    "    i=i+1\n",
    "    if i==10:\n",
    "        break"
   ]
  },
  {
   "cell_type": "code",
   "execution_count": null,
   "metadata": {
    "collapsed": false
   },
   "outputs": [],
   "source": [
    "angles = range(-90,90+1,15)\n",
    "print(angles,len(angles))"
   ]
  },
  {
   "cell_type": "code",
   "execution_count": null,
   "metadata": {
    "collapsed": false
   },
   "outputs": [],
   "source": [
    "range(-90,90+1,30)\n"
   ]
  },
  {
   "cell_type": "code",
   "execution_count": null,
   "metadata": {
    "collapsed": false
   },
   "outputs": [],
   "source": [
    "\n",
    "if im_count < N_im_total:\n",
    "    print('A')"
   ]
  },
  {
   "cell_type": "code",
   "execution_count": null,
   "metadata": {
    "collapsed": false
   },
   "outputs": [],
   "source": [
    "range(int(np.ceil(100/10)))"
   ]
  },
  {
   "cell_type": "code",
   "execution_count": null,
   "metadata": {
    "collapsed": true
   },
   "outputs": [],
   "source": [
    "IMG, LABEL = load_N_MNIST_images(N_im_total,'/mnt/antares_raid/home/oliver/adhara/src/caffe/examples/mnist/mnist_train_lmdb')\n"
   ]
  },
  {
   "cell_type": "code",
   "execution_count": null,
   "metadata": {
    "collapsed": false,
    "scrolled": true
   },
   "outputs": [],
   "source": [
    "set_str = '_TRAIN_' + str(10000) + '_'\n",
    "\n",
    "src_dir = '/mnt/antares_raid/home/oliver/Scripts/autoencoder/MNIST' + set_str + 'rot_lmdb'\n",
    "dst_dir = '/mnt/antares_raid/home/oliver/Scripts/autoencoder/MNIST' + set_str + 'rot_lmdb/shuffled'\n",
    "ind = create_shuffled_ind(src_dir, dst_dir)\n",
    "\n",
    "shuffle_samples_lmdb(src_dir, dst_dir, ind)"
   ]
  },
  {
   "cell_type": "code",
   "execution_count": null,
   "metadata": {
    "collapsed": false
   },
   "outputs": [],
   "source": [
    "'/mnt/antares_raid/home/oliver/Scripts/autoencoder/MNIST' + set_str + 'rot_ang_lmdb/shuffled/'"
   ]
  },
  {
   "cell_type": "code",
   "execution_count": null,
   "metadata": {
    "collapsed": false,
    "scrolled": false
   },
   "outputs": [],
   "source": [
    "i = 0\n",
    "lmdb_rot_ang = lmdb.open('/mnt/antares_raid/home/oliver/Scripts/autoencoder/MNIST' + set_str + 'rot_lmdb/')\n",
    "lmdb_txn_rot_ang = lmdb_rot_ang.begin()\n",
    "lmdb_cursor_rot_ang = lmdb_txn_rot_ang.cursor()\n",
    "\n",
    "\n",
    "for key, value in lmdb_cursor_rot_ang:\n",
    "    #print(key,value)\n",
    "    with lmdb_rot_ang.begin() as txn_bla: \n",
    "        raw_datum = txn_bla.get(key)\n",
    "        datum = caffe.proto.caffe_pb2.Datum()\n",
    "        datum.ParseFromString(raw_datum)\n",
    "        #print(datum.data)\n",
    "        flat_x = np.fromstring(datum.data, dtype=np.uint8)\n",
    "        print(flat_x.shape)\n",
    "        plt.imshow(flat_x.squeeze())\n",
    "        plt.show()\n",
    "        print(datum.label)\n",
    "        i=i+1\n",
    "        if i == 20:\n",
    "            break\n"
   ]
  },
  {
   "cell_type": "code",
   "execution_count": null,
   "metadata": {
    "collapsed": false
   },
   "outputs": [],
   "source": [
    "\n",
    "set_str = '_TRAIN_1000_'\n",
    "env = lmdb.open('/mnt/antares_raid/home/oliver/Scripts/autoencoder/MNIST' + set_str + 'rot_lmdb/shuffled/', readonly=True)\n",
    "with env.begin() as txn:\n",
    "    raw_datum = txn.get(b'0000000003')\n",
    "\n",
    "datum = caffe.proto.caffe_pb2.Datum()\n",
    "datum.ParseFromString(raw_datum)\n",
    "\n",
    "flat_x = np.fromstring(datum.data, dtype=np.uint8)\n",
    "x = flat_x\n",
    "y = datum.label\n",
    "#data2 = caffe.io.datum_to_array(raw_datum)\n",
    "y\n",
    "print(y, raw_datum)"
   ]
  },
  {
   "cell_type": "code",
   "execution_count": null,
   "metadata": {
    "collapsed": false
   },
   "outputs": [],
   "source": [
    "data = caffe.io.datum_to_array(datum.data)\n",
    "y"
   ]
  },
  {
   "cell_type": "code",
   "execution_count": null,
   "metadata": {
    "collapsed": false
   },
   "outputs": [],
   "source": [
    "IMG, LABEL = load_N_MNIST_images(1000,'/mnt/antares_raid/home/oliver/adhara/src/caffe/examples/mnist/mnist_test_lmdb')"
   ]
  },
  {
   "cell_type": "code",
   "execution_count": null,
   "metadata": {
    "collapsed": false
   },
   "outputs": [],
   "source": [
    "print(len(range(-90,90+1,15))*5000)\n"
   ]
  },
  {
   "cell_type": "code",
   "execution_count": null,
   "metadata": {
    "collapsed": false
   },
   "outputs": [],
   "source": [
    "17000/5000.\n"
   ]
  },
  {
   "cell_type": "code",
   "execution_count": null,
   "metadata": {
    "collapsed": false
   },
   "outputs": [],
   "source": [
    "A = lmdb.open('/mnt/antares_raid/home/oliver/Scripts/autoencoder_v2/MNIST_lmdb/MNIST_TRAIN_5000_unrot_lmdb')\n",
    "A.stat()"
   ]
  },
  {
   "cell_type": "code",
   "execution_count": null,
   "metadata": {
    "collapsed": true
   },
   "outputs": [],
   "source": [
    "5000"
   ]
  }
 ],
 "metadata": {
  "kernelspec": {
   "display_name": "Python 2",
   "language": "python",
   "name": "python2"
  },
  "language_info": {
   "codemirror_mode": {
    "name": "ipython",
    "version": 2
   },
   "file_extension": ".py",
   "mimetype": "text/x-python",
   "name": "python",
   "nbconvert_exporter": "python",
   "pygments_lexer": "ipython2",
   "version": "2.7.6"
  }
 },
 "nbformat": 4,
 "nbformat_minor": 0
}
