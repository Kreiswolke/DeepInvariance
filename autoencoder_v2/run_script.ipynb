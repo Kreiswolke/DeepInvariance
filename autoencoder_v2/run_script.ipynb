{
 "cells": [
  {
   "cell_type": "code",
   "execution_count": 1,
   "metadata": {
    "collapsed": false
   },
   "outputs": [
    {
     "name": "stderr",
     "output_type": "stream",
     "text": [
      "/mnt/antares_raid/home/oliver/adhara/src/caffe/python/caffe/pycaffe.py:13: RuntimeWarning: to-Python converter for boost::shared_ptr<caffe::Net<float> > already registered; second conversion method ignored.\n",
      "  from ._caffe import Net, SGDSolver, NesterovSolver, AdaGradSolver, \\\n",
      "/mnt/antares_raid/home/oliver/adhara/src/caffe/python/caffe/pycaffe.py:13: RuntimeWarning: to-Python converter for boost::shared_ptr<caffe::Blob<float> > already registered; second conversion method ignored.\n",
      "  from ._caffe import Net, SGDSolver, NesterovSolver, AdaGradSolver, \\\n",
      "/mnt/antares_raid/home/oliver/adhara/src/caffe/python/caffe/pycaffe.py:13: RuntimeWarning: to-Python converter for boost::shared_ptr<caffe::Solver<float> > already registered; second conversion method ignored.\n",
      "  from ._caffe import Net, SGDSolver, NesterovSolver, AdaGradSolver, \\\n"
     ]
    }
   ],
   "source": [
    "import sys\n",
    "sys.path.append('/mnt/antares_raid/home/oliver/nideep')\n",
    "sys.path.append('/mnt/antares_raid/home/oliver/Scripts/autoencoder')\n",
    "import os\n",
    "from TransformMNIST import MNISTtransformer\n",
    "import subprocess\n",
    "import sys\n",
    "import caffe\n",
    "import matplotlib\n",
    "import numpy as np\n",
    "import lmdb\n",
    "import argparse\n",
    "from collections import defaultdict\n",
    "import matplotlib.pyplot as plt\n",
    "import math\n",
    "from nideep.eval.learning_curve import LearningCurve\n",
    "from nideep.eval.inference import infer_to_h5_fixed_dims, infer_to_lmdb\n",
    "from sklearn.metrics import classification_report\n",
    "from sklearn.metrics import confusion_matrix\n",
    "from nideep.eval.learning_curve import LearningCurve\n",
    "from nideep.eval.eval_utils import Phase\n",
    "%matplotlib inline"
   ]
  },
  {
   "cell_type": "code",
   "execution_count": null,
   "metadata": {
    "collapsed": false
   },
   "outputs": [],
   "source": [
    "def set_up_dir(path):\n",
    "    try: \n",
    "        os.makedirs(path)\n",
    "    except OSError:\n",
    "        if not os.path.isdir(path):\n",
    "            raise\n",
    "\n",
    "def sigmoid(x):\n",
    "    return 1 / (1 + math.exp(-x))"
   ]
  },
  {
   "cell_type": "code",
   "execution_count": null,
   "metadata": {
    "collapsed": true
   },
   "outputs": [],
   "source": [
    "src_lmdb_dir = '/mnt/antares_raid/home/oliver/adhara/src/caffe/examples/mnist/'\n",
    "home_dir = '/mnt/antares_raid/home/oliver/Scripts/autoencoder_v2/'\n",
    "set_up_dir(home_dir)\n",
    "dst_lmdb_dir = home_dir + 'MNIST_lmdb/'\n",
    "set_up_dir(dst_lmdb_dir)\n",
    "N_ims = [60000, 10000]\n",
    "angles = range(-90,90+1,15)\n",
    "batch_size = 1000.\n",
    "set_strings = ['_TRAIN_', '_TEST_']\n",
    "dir_strings = ['_train_', '_test_']\n",
    "\n",
    "if False:\n",
    "    # Create the lmdb database\n",
    "    for set_str, dir_str, N_im in zip(set_strings, dir_strings,N_ims):\n",
    "        mnisttransform = MNISTtransformer(src_lmdb_dir, home_dir, dst_lmdb_dir, N_im, batch_size, set_str, dir_str, angles)\n",
    "        mnisttransform.run()"
   ]
  },
  {
   "cell_type": "code",
   "execution_count": null,
   "metadata": {
    "collapsed": false
   },
   "outputs": [],
   "source": [
    "# Train autoencoder weights\n",
    "#p = subprocess.Popen([\"screen\"])\n",
    "#p = subprocess.Popen([\"/mnt/antares_raid/home/oliver/adhara/src/caffe/build/tools/caffe\", \"train\", \"-solver\", \"/mnt/antares_raid/home/oliver/Scripts/autoencoder_v2/autoencoder/autoencoder_net_solver.prototxt\"])\n",
    "\n",
    "#/mnt/antares_raid/home/oliver/adhara/src/caffe/build/tools/caffe train -solver /mnt/antares_raid/home/oliver/Scripts/autoencoder_v2/autoencoder/autoencoder_net_solver.prototxt "
   ]
  },
  {
   "cell_type": "code",
   "execution_count": null,
   "metadata": {
    "collapsed": false,
    "scrolled": false
   },
   "outputs": [],
   "source": [
    "\n",
    "# Check weights\n",
    "\n",
    "proto = '/mnt/antares_raid/home/oliver/Scripts/autoencoder_v2/autoencoder/deploy_autoencoder_net.prototxt'\n",
    "model = '/mnt/antares_raid/home/oliver/Scripts/autoencoder_v2/autoencoder/snapshots/_iter_156000.caffemodel'\n",
    "lmdb_path = '/mnt/antares_raid/home/oliver/Scripts/autoencoder_v2/MNIST_lmdb/MNIST_TEST_10000_rot_lmdb/shuffled/'\n",
    "\n",
    "proto = '/mnt/antares_raid/home/oliver/Scripts/autoencoder_v2/autoencoder_with_MLP/deploy_autoencoder_with_MLP_net.prototxt'\n",
    "model = '/mnt/antares_raid/home/oliver/Scripts/autoencoder_v2/autoencoder_with_MLP/snapshots_with_MLP/_iter_780000.caffemodel'\n",
    "lmdb_path = '/mnt/antares_raid/home/oliver/Scripts/autoencoder_v2/MNIST_lmdb/MNIST_TEST_10000_rot_lmdb/shuffled/'\n",
    "\n",
    "net = caffe.Net(proto, model, caffe.TEST)\n",
    "\n",
    "\n",
    "count = 0\n",
    "correct = 0\n",
    "matrix = defaultdict(int) # (real,pred) -> int\n",
    "labels_set = set()\n",
    "\n",
    "net = caffe.Net(proto, model, caffe.TEST)\n",
    "caffe.set_mode_cpu()\n",
    "lmdb_env = lmdb.open(lmdb_path)\n",
    "lmdb_txn = lmdb_env.begin()\n",
    "lmdb_cursor = lmdb_txn.cursor()\n",
    "for key, value in lmdb_cursor:\n",
    "    datum = caffe.proto.caffe_pb2.Datum()\n",
    "    datum.ParseFromString(value)\n",
    "    label = int(datum.label)\n",
    "    image = caffe.io.datum_to_array(datum)\n",
    "    image = image.astype(np.uint8)\n",
    "    \n",
    "    out = net.forward_all(data=np.asarray([image]))\n",
    "    plabel = int(out['score'][0].argmax(axis=0))\n",
    "\n",
    "    count = count + 1\n",
    "    iscorrect = label == plabel\n",
    "    correct = correct + (1 if iscorrect else 0)\n",
    "    matrix[(label, plabel)] += 1\n",
    "    labels_set.update([label, plabel])\n",
    "\n",
    "    #if not iscorrect:\n",
    "    #    print(\"\\rError: key=%s, expected %i but predicted %i\" \\\n",
    "    #            % (key, label, plabel))\n",
    "\n",
    "    #sys.stdout.write(\"\\rAccuracy: %.1f%%\" % (100.*correct/count))\n",
    "    #sys.stdout.flush()\n",
    "    \n",
    "    plt.figure(figsize=(18,4))\n",
    "    plt.subplot(1,2,1)\n",
    "    plt.imshow(image.reshape(28, 28).T, cmap='gray'); plt.axis('off')\n",
    "    plt.colorbar()\n",
    "    plt.title('Input')\n",
    "    plt.subplot(1,2,2)\n",
    "    plt.imshow(np.array([sigmoid(a) for a  in out['decode1'].squeeze()]).reshape(28, 28).T, cmap='gray'); plt.axis('off')\n",
    "    plt.title('decode1 output')\n",
    "    plt.colorbar()\n",
    "    plt.show()\n",
    "\n",
    "    if count == 5:\n",
    "        break\n",
    "#print(str(correct) + \" out of \" + str(count) + \" were classified correctly\")\n",
    "\n",
    "print \"\"\n",
    "print \"Confusion matrix:\"\n",
    "print \"(r , p) | count\"\n",
    "for l in labels_set:\n",
    "    for pl in labels_set:\n",
    "        print \"(%i , %i) | %i\" % (l, pl, matrix[(l,pl)])"
   ]
  },
  {
   "cell_type": "code",
   "execution_count": null,
   "metadata": {
    "collapsed": true
   },
   "outputs": [],
   "source": [
    "#Train Autoencoder + MLP\n",
    "model = '/mnt/antares_raid/home/oliver/Scripts/autoencoder_v2/autoencoder/snapshots_28_07/_iter_702000.caffemodel'\n",
    "\n",
    "#p = subprocess.Popen([\"screen\"])\n",
    "#p = subprocess.Popen([\"/mnt/antares_raid/home/oliver/adhara/src/caffe/build/tools/caffe\", \"train\", \n",
    "#\"-solver\", \"/mnt/antares_raid/home/oliver/Scripts/autoencoder_v2/autoencoder_with_MLP/autoencoder_with_MLP_solver.prototxt\",\"-weights\", \"/mnt/antares_raid/home/oliver/Scripts/autoencoder_v2/autoencoder/snapshots_28_07/_iter_702000.caffemodel\"])\n"
   ]
  },
  {
   "cell_type": "code",
   "execution_count": null,
   "metadata": {
    "collapsed": false
   },
   "outputs": [],
   "source": [
    "# Use Youssef Script to save results to hdf5\n",
    "proto = '/mnt/antares_raid/home/oliver/Scripts/autoencoder_v2/autoencoder_with_MLP/autoencoder_with_MLP_net.prototxt'\n",
    "model = '/mnt/antares_raid/home/oliver/Scripts/autoencoder_v2/autoencoder_with_MLP/snapshots_with_MLP/_iter_780000.caffemodel'\n",
    "lmdb_path = '/mnt/antares_raid/home/oliver/Scripts/autoencoder_v2/MNIST_lmdb/MNIST_TRAIN_60000_rot_lmdb/shuffled/'\n",
    "\n",
    "net = caffe.Net(proto, model, caffe.TRAIN)\n",
    "#print(list(net._layer_names))\n",
    "\n",
    "keys = ['label', 'score', 'data']\n",
    "dst_fpath =  \"/mnt/antares_raid/home/oliver/Scripts/autoencoder_v2/autoencoder_with_MLP/results/res_train.hdf5\"\n",
    "n = 780\n",
    "infer_to_h5_fixed_dims(net, keys, n, dst_fpath, preserve_batch=False)\n",
    "\n",
    "# Use encoding weights to train an MLP\n",
    "\n",
    "dst_prefix =  '/mnt/antares_raid/home/oliver/Scripts/autoencoder_v2/autoencoder_with_MLP/results/%s'\n",
    "print(\"blobs {}\\nparams {}\".format(net.blobs.keys(), net.params.keys()))\n",
    "\n"
   ]
  },
  {
   "cell_type": "code",
   "execution_count": null,
   "metadata": {
    "collapsed": false
   },
   "outputs": [],
   "source": [
    "import h5py\n",
    "dst_fpath =  \"/mnt/antares_raid/home/oliver/Scripts/autoencoder_v2/autoencoder_with_MLP/results/res_train.hdf5\"\n",
    "f = h5py.File(dst_fpath, \"r\")\n",
    "pred = [np.argmax(p) for p in f['score']]\n",
    "true = list(f['label']) \n",
    "print(classification_report(true,pred))\n",
    "conf_mat = confusion_matrix(true,pred)"
   ]
  },
  {
   "cell_type": "code",
   "execution_count": null,
   "metadata": {
    "collapsed": false,
    "scrolled": true
   },
   "outputs": [],
   "source": [
    "plt.imshow((conf_mat/780000.), interpolation='none')\n",
    "plt.colorbar()\n",
    "plt.show()"
   ]
  },
  {
   "cell_type": "code",
   "execution_count": 3,
   "metadata": {
    "collapsed": false
   },
   "outputs": [
    {
     "name": "stdout",
     "output_type": "stream",
     "text": [
      "/mnt/antares_raid/home/oliver/Scripts/autoencoder_v2/autoencoder_with_MLP_logfile/log/20160801.log\n"
     ]
    }
   ],
   "source": [
    "log_path = '/mnt/antares_raid/home/oliver/Scripts/autoencoder_v2/autoencoder_with_MLP_logfile/log/20160801.log'\n",
    "\n",
    "e = LearningCurve(log_path)\n",
    "print(e.path_log)"
   ]
  },
  {
   "cell_type": "code",
   "execution_count": 11,
   "metadata": {
    "collapsed": false
   },
   "outputs": [
    {
     "ename": "NameError",
     "evalue": "global name 'parse_line_for_net_output' is not defined",
     "output_type": "error",
     "traceback": [
      "\u001b[1;31m---------------------------------------------------------------------------\u001b[0m",
      "\u001b[1;31mNameError\u001b[0m                                 Traceback (most recent call last)",
      "\u001b[1;32m<ipython-input-11-62e27909a713>\u001b[0m in \u001b[0;36m<module>\u001b[1;34m()\u001b[0m\n\u001b[0;32m     62\u001b[0m     \u001b[1;32mreturn\u001b[0m \u001b[0mtrain_dict_list\u001b[0m\u001b[1;33m,\u001b[0m \u001b[0mtest_dict_list\u001b[0m\u001b[1;33m\u001b[0m\u001b[0m\n\u001b[0;32m     63\u001b[0m \u001b[1;33m\u001b[0m\u001b[0m\n\u001b[1;32m---> 64\u001b[1;33m \u001b[0mlog_data\u001b[0m \u001b[1;33m=\u001b[0m \u001b[0mparse_log\u001b[0m\u001b[1;33m(\u001b[0m\u001b[0mlog_path\u001b[0m\u001b[1;33m)\u001b[0m\u001b[1;33m\u001b[0m\u001b[0m\n\u001b[0m",
      "\u001b[1;32m<ipython-input-11-62e27909a713>\u001b[0m in \u001b[0;36mparse_log\u001b[1;34m(path_to_log)\u001b[0m\n\u001b[0;32m     48\u001b[0m                 \u001b[0mlearning_rate\u001b[0m \u001b[1;33m=\u001b[0m \u001b[0mfloat\u001b[0m\u001b[1;33m(\u001b[0m\u001b[0mlearning_rate_match\u001b[0m\u001b[1;33m.\u001b[0m\u001b[0mgroup\u001b[0m\u001b[1;33m(\u001b[0m\u001b[1;36m1\u001b[0m\u001b[1;33m)\u001b[0m\u001b[1;33m)\u001b[0m\u001b[1;33m\u001b[0m\u001b[0m\n\u001b[0;32m     49\u001b[0m \u001b[1;33m\u001b[0m\u001b[0m\n\u001b[1;32m---> 50\u001b[1;33m             train_dict_list, train_row = parse_line_for_net_output(\n\u001b[0m\u001b[0;32m     51\u001b[0m                 \u001b[0mregex_train_output\u001b[0m\u001b[1;33m,\u001b[0m \u001b[0mtrain_row\u001b[0m\u001b[1;33m,\u001b[0m \u001b[0mtrain_dict_list\u001b[0m\u001b[1;33m,\u001b[0m\u001b[1;33m\u001b[0m\u001b[0m\n\u001b[0;32m     52\u001b[0m                 \u001b[0mline\u001b[0m\u001b[1;33m,\u001b[0m \u001b[0miteration\u001b[0m\u001b[1;33m,\u001b[0m \u001b[0mseconds\u001b[0m\u001b[1;33m,\u001b[0m \u001b[0mlearning_rate\u001b[0m\u001b[1;33m\u001b[0m\u001b[0m\n",
      "\u001b[1;31mNameError\u001b[0m: global name 'parse_line_for_net_output' is not defined"
     ]
    }
   ],
   "source": [
    "import os\n",
    "import re\n",
    "import extract_seconds\n",
    "import argparse\n",
    "import csv\n",
    "from collections import OrderedDict\n",
    "\n",
    "\n",
    "def parse_log(path_to_log):\n",
    "    \"\"\"Parse log file\n",
    "    Returns (train_dict_list, test_dict_list)\n",
    "    train_dict_list and test_dict_list are lists of dicts that define the table\n",
    "    rows\n",
    "    \"\"\"\n",
    "\n",
    "    regex_iteration = re.compile('Iteration (\\d+)')\n",
    "    regex_train_output = re.compile('Train net output #(\\d+): (\\S+) = ([\\.\\deE+-]+)')\n",
    "    regex_test_output = re.compile('Test net output #(\\d+): (\\S+) = ([\\.\\deE+-]+)')\n",
    "    regex_learning_rate = re.compile('lr = ([-+]?[0-9]*\\.?[0-9]+([eE]?[-+]?[0-9]+)?)')\n",
    "\n",
    "\n",
    "\n",
    "test_iteration_regex = re.compile(\"(?<=Iteration )(.*)(?=, Testing net)\")\n",
    "test_accuracy_regex = re.compile(\"(?<=accuracy = )(.*)\")\n",
    "test_loss_regex = re.compile(\"(?<=Test net output #1: loss = )(.*)(?= \\()\")\n",
    "\n",
    "train_iteration_regex = re.compile(\"(?<=Iteration )(.*)(?=, loss)\")\n",
    "train_loss_regex = re.compile(\"(?<=Train net output #0: loss = )(.*)(?= \\()\")\n",
    "\n",
    "learning_rate_regex = re.compile(\"(?<=base_lr: )(.*)(?=)\")\n",
    "\n",
    "\n",
    "\n",
    "log_data = pl.parse_log(log_path)"
   ]
  },
  {
   "cell_type": "code",
   "execution_count": 10,
   "metadata": {
    "collapsed": false
   },
   "outputs": [
    {
     "data": {
      "image/png": "[encoded data removed]",
      "text/plain": [
       "<matplotlib.figure.Figure at 0x7fda321e7c10>"
      ]
     },
     "metadata": {},
     "output_type": "display_data"
    },
    {
     "data": {
      "image/png": "[encoded data removed]",
      "text/plain": [
       "<matplotlib.figure.Figure at 0x7fda321cdf90>"
      ]
     },
     "metadata": {},
     "output_type": "display_data"
    }
   ],
   "source": [
    "e.parse()\n",
    "for phase in [Phase.TRAIN, Phase.TEST]:\n",
    "    num_iter = e.list('NumIters', phase)\n",
    "    loss = e.list('loss', phase)\n",
    "    plt.plot(num_iter, loss, label='on %s set' % (phase,))\n",
    "    plt.xlabel('iteration')\n",
    "    # format x-axis ticks\n",
    "    ticks, _ = plt.xticks()\n",
    "    plt.xticks(ticks, [\"%dK\" % int(t/1000) for t in ticks])\n",
    "    plt.ylabel('loss')\n",
    "    plt.title(e.name())\n",
    "    plt.legend()\n",
    "    \n",
    "plt.figure()\n",
    "num_iter = e.list('NumIters', phase)\n",
    "acc = e.list('accuracy', phase)\n",
    "plt.plot(num_iter, acc, label=e.name())\n",
    "\n",
    "plt.xlabel('iteration')\n",
    "plt.ylabel('accuracy')\n",
    "plt.title(\"on %s set\" % (phase,))\n",
    "plt.legend(loc='lower right')\n",
    "plt.grid()"
   ]
  },
  {
   "cell_type": "code",
   "execution_count": 7,
   "metadata": {
    "collapsed": false
   },
   "outputs": [
    {
     "name": "stdout",
     "output_type": "stream",
     "text": [
      "[[     0.]\n",
      " [   780.]\n",
      " [  1560.]\n",
      " [  2340.]\n",
      " [  3120.]\n",
      " [  3900.]\n",
      " [  4680.]\n",
      " [  5460.]\n",
      " [  6240.]\n",
      " [  7020.]\n",
      " [  7800.]\n",
      " [  8580.]\n",
      " [  9360.]\n",
      " [ 10140.]\n",
      " [ 10920.]\n",
      " [ 11700.]\n",
      " [ 12480.]\n",
      " [ 13260.]\n",
      " [ 14040.]\n",
      " [ 14820.]\n",
      " [ 15600.]\n",
      " [ 16380.]\n",
      " [ 17160.]\n",
      " [ 17940.]\n",
      " [ 18720.]\n",
      " [ 19500.]\n",
      " [ 20280.]\n",
      " [ 21060.]\n",
      " [ 21840.]\n",
      " [ 22620.]\n",
      " [ 23400.]\n",
      " [ 24180.]\n",
      " [ 24960.]\n",
      " [ 25740.]\n",
      " [ 26520.]\n",
      " [ 27300.]\n",
      " [ 28080.]\n",
      " [ 28860.]\n",
      " [ 29640.]\n",
      " [ 30420.]\n",
      " [ 31200.]\n",
      " [ 31980.]\n",
      " [ 32760.]\n",
      " [ 33540.]\n",
      " [ 34320.]\n",
      " [ 35100.]\n",
      " [ 35880.]\n",
      " [ 36660.]\n",
      " [ 37440.]\n",
      " [ 38220.]\n",
      " [ 39000.]\n",
      " [ 39780.]\n",
      " [ 40560.]\n",
      " [ 41340.]\n",
      " [ 42120.]\n",
      " [ 42900.]\n",
      " [ 43680.]\n",
      " [ 44460.]\n",
      " [ 45240.]\n",
      " [ 46020.]\n",
      " [ 46800.]\n",
      " [ 47580.]\n",
      " [ 48360.]\n",
      " [ 49140.]\n",
      " [ 49920.]\n",
      " [ 50700.]\n",
      " [ 51480.]\n",
      " [ 52260.]\n",
      " [ 53040.]\n",
      " [ 53820.]\n",
      " [ 54600.]\n",
      " [ 55380.]\n",
      " [ 56160.]\n",
      " [ 56940.]\n",
      " [ 57720.]\n",
      " [ 58500.]\n",
      " [ 59280.]\n",
      " [ 60060.]\n",
      " [ 60840.]\n",
      " [ 61620.]\n",
      " [ 62400.]\n",
      " [ 63180.]\n",
      " [ 63960.]\n",
      " [ 64740.]]\n"
     ]
    }
   ],
   "source": [
    "print(num_iter)"
   ]
  },
  {
   "cell_type": "code",
   "execution_count": null,
   "metadata": {
    "collapsed": true
   },
   "outputs": [],
   "source": []
  }
 ],
 "metadata": {
  "kernelspec": {
   "display_name": "Python 2",
   "language": "python",
   "name": "python2"
  },
  "language_info": {
   "codemirror_mode": {
    "name": "ipython",
    "version": 2
   },
   "file_extension": ".py",
   "mimetype": "text/x-python",
   "name": "python",
   "nbconvert_exporter": "python",
   "pygments_lexer": "ipython2",
   "version": "2.7.6"
  }
 },
 "nbformat": 4,
 "nbformat_minor": 0
}
