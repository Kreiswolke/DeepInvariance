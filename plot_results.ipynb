{
 "cells": [
  {
   "cell_type": "code",
   "execution_count": 1,
   "metadata": {
    "collapsed": false
   },
   "outputs": [],
   "source": [
    "import sys\n",
    "sys.path.append('/mnt/antares_raid/home/oliver/nideep')\n",
    "sys.path.append('/mnt/antares_raid/home/oliver/Scripts/autoencoder')\n",
    "import numpy as np\n",
    "import lmdb\n",
    "import argparse\n",
    "from collections import defaultdict\n",
    "import matplotlib.pyplot as plt\n",
    "import matplotlib as mpl\n",
    "import math\n",
    "from nideep.eval.learning_curve import LearningCurve\n",
    "from nideep.eval.inference import infer_to_h5_fixed_dims, infer_to_lmdb\n",
    "from nideep.eval.learning_curve import LearningCurve\n",
    "from nideep.eval.eval_utils import Phase\n",
    "%matplotlib inline\n",
    "import matplotlib.font_manager as font_manager"
   ]
  },
  {
   "cell_type": "code",
   "execution_count": null,
   "metadata": {
    "collapsed": false
   },
   "outputs": [],
   "source": [
    "def init_plotting():\n",
    "    import seaborn as sns\n",
    "    sns.set(style='ticks', palette='Set2')\n",
    "    sns.despine()\n",
    "    #plt.rcParams['figure.figsize'] = (8, 3)\n",
    "    plt.rcParams['font.size'] = 20\n",
    "   # plt.rcParams['font.family'] = 'Times New Roman'\n",
    "    plt.rcParams['axes.labelsize'] = plt.rcParams['font.size']\n",
    "    plt.rcParams['axes.titlesize'] = 1.5*plt.rcParams['font.size']\n",
    "    plt.rcParams['legend.fontsize'] = 15\n",
    "    plt.rcParams['xtick.labelsize'] = 18\n",
    "    plt.rcParams['ytick.labelsize'] = plt.rcParams['font.size']\n",
    "    plt.rcParams['savefig.dpi'] = 2*plt.rcParams['savefig.dpi']\n",
    "    #plt.rcParams['xtick.major.size'] = 3\n",
    "    #plt.rcParams['xtick.minor.size'] = 3\n",
    "    #plt.rcParams['xtick.major.width'] = 1\n",
    "    #plt.rcParams['xtick.minor.width'] = 1\n",
    "    #plt.rcParams['ytick.major.size'] = 3\n",
    "    #plt.rcParams['ytick.minor.size'] = 3\n",
    "    #plt.rcParams['ytick.major.width'] = 1\n",
    "    #plt.rcParams['ytick.minor.width'] = 1\n",
    "    plt.rcParams['legend.frameon'] = True\n",
    "    plt.rcParams['patch.linewidth'] = 0.5\n",
    "\n",
    "    #plt.rcParams['legend.loc'] = 'center left'\n",
    "    plt.rcParams['axes.linewidth'] = 2\n",
    "\n",
    "    #plt.gca().spines['right'].set_color('none')\n",
    "    #plt.gca().spines['top'].set_color('none')\n",
    "    #plt.gca().xaxis.set_ticks_position('bottom')\n",
    "    #plt.gca().yaxis.set_ticks_position('left')\n",
    "    \n",
    "init_plotting()\n",
    "path = '/mnt/antares_raid/home/oliver/roboto/Roboto-Light.ttf'\n",
    "prop = font_manager.FontProperties(fname=path, size = 20)"
   ]
  },
  {
   "cell_type": "markdown",
   "metadata": {},
   "source": [
    "## Group comparison"
   ]
  },
  {
   "cell_type": "code",
   "execution_count": 2,
   "metadata": {
    "collapsed": false
   },
   "outputs": [],
   "source": [
    "dates_list = ['2408', '2708', '2908','0309', '0609']\n",
    "#dates_list = [ '2408', '2708']#'0609']\n",
    "#dates_list = [ '0309', '0609']\n",
    "#exps = ['AER', 'AEUR', 'RAND', 'AENR25', 'AENUR25', 'AENR50', 'AENUR50']\n",
    "exps = ['AER', 'AEUR', 'RAND','AENR10', 'AENUR10', 'AENR25', 'AENUR25', 'AENR50', 'AENUR50']\n",
    "#exps = ['AER','AENR10', 'AENUR10']\n",
    "\n",
    "exp_data = dict()\n",
    "\n",
    "for date in dates_list:\n",
    "    exp_data.update({date:{'AER': {'log':'/mnt/antares_raid/home/oliver/Experiments/' + date + '/MLP/AER/log/log.log',\n",
    "                                   'label': 'Rotated',\n",
    "                                    'plot':['#fa8174', '-']},\n",
    "        'AEUR': {'log':'/mnt/antares_raid/home/oliver/Experiments/' + date + '/MLP/AEUR/log/log.log',\n",
    "                 'label': 'Unrotated',\n",
    "                 'plot': ['c','--']},\n",
    "        'RAND':{'log': '/mnt/antares_raid/home/oliver/Experiments/' + date + '/MLP/RAND/log/log.log',\n",
    "                'label': 'Random',\n",
    "                 'plot':['r', '-.'] },\n",
    "        'AENR10':{'log':'/mnt/antares_raid/home/oliver/Experiments/' + date + '/MLP/AE10NR/log/log.log',\n",
    "                  'label': 'Noisy 10 Rotated',\n",
    "                 'plot':['m','-']},\n",
    "        'AENUR10': {'log':'/mnt/antares_raid/home/oliver/Experiments/' + date + '/MLP/AE10NUR/log/log.log',\n",
    "                    'label': 'Noisy 10 Unrotated',\n",
    "                 'plot':['g','--']},\n",
    "        'AENR25':{'log':'/mnt/antares_raid/home/oliver/Experiments/' + date + '/MLP/AE25NR/log/log.log',\n",
    "                  'label': 'Noisy 25 Rotated',\n",
    "                 'plot':['k','-']},\n",
    "        'AENUR25': {'log':'/mnt/antares_raid/home/oliver/Experiments/' + date + '/MLP/AE25NUR/log/log.log',\n",
    "                    'label': 'Noisy 25 Unrotated',\n",
    "                 'plot':['b','--']},\n",
    "        'AENR50':{'log':'/mnt/antares_raid/home/oliver/Experiments/' + date + '/MLP/AE50NR/log/log.log',\n",
    "                  'label': 'Noisy 50 Rotated',\n",
    "                 'plot':['y','-']},\n",
    "        'AENUR50':{'log':'/mnt/antares_raid/home/oliver/Experiments/' + date + '/MLP/AE50NUR/log/log.log',\n",
    "                   'label': 'Noisy 50 Unrotated',\n",
    "                 'plot':['#8A2BE2','--']},\n",
    "            }\n",
    "        })\n",
    "    \n",
    "    for exp in exps:\n",
    "        e = LearningCurve(exp_data[date][exp]['log'])\n",
    "        e.parse()\n",
    "        for phase in [Phase.TRAIN, Phase.TEST]:\n",
    "            exp_data[date][exp][phase] = {}\n",
    "            exp_data[date][exp][phase]['num_iter'] = e.list('NumIters', phase)\n",
    "            exp_data[date][exp][phase]['loss'] = e.list('loss', phase)\n",
    "            exp_data[date][exp][phase]['acc'] = e.list('accuracy', phase)\n",
    "            \n",
    "        "
   ]
  },
  {
   "cell_type": "code",
   "execution_count": 3,
   "metadata": {
    "collapsed": false,
    "scrolled": true
   },
   "outputs": [],
   "source": [
    "#Extract Test accuracy and Trains loss over groups\n",
    "acc = [[] for e in exps]\n",
    "loss = [[] for e in exps]\n",
    "\n",
    "for d,_ in exp_data.items():\n",
    "    for i,e in enumerate(exps):\n",
    "        acc[i].append(exp_data[d][e][Phase.TEST]['acc'])\n",
    "        loss[i].append(exp_data[d][e][Phase.TRAIN]['loss'])\n",
    "        \n",
    "    \n",
    "    \n",
    "    \n"
   ]
  },
  {
   "cell_type": "code",
   "execution_count": null,
   "metadata": {
    "collapsed": false
   },
   "outputs": [],
   "source": [
    "#exp_labels = ['Rotated', 'Unrotated', 'Random', '25 Rotated', '25 Unrotated', '50 Rotated' , '50 Unrotated']\n",
    "#exp_labels = ['Rotated', 'Unrotated', 'Random', '10 Rotated', '10 Unrotated', '25 Rotated', '25 Unrotated', '50 Rotated' , '50 Unrotated']\n",
    "\n",
    "#exps = ['AER','AENR10', 'AENUR10', 'AENR25', 'AENUR25', 'AENR50', 'AENUR50']\n",
    "#exp_labels = ['Rotated', '10 Rotated', '10 Unrotated', '25 Rotated', '25 Unrotated', '50 Rotated', '50 Unrotated']\n",
    "\n",
    "\n",
    "#exps = ['AER','AENUR10','AENR25', 'AENR50']\n",
    "\n",
    "\n",
    "\n",
    "\n",
    "fig = plt.figure(figsize=(20,40))\n",
    "xmax = 39000\n",
    "ymin = 0.7\n",
    "ymax = 0.96\n",
    "fix_date = dates_list[0]\n",
    "num_iter = exp_data[fix_date]['AER'][Phase.TEST]['num_iter']\n",
    "for i,e in enumerate(exps):\n",
    "    print(i,e)\n",
    "    ax = plt.subplot(3,1,1)\n",
    "    ma = np.mean(loss[i], axis = 0).squeeze()\n",
    "    mstd = np.std(loss[i], axis = 0).squeeze()\n",
    "    num_iter = exp_data[fix_date]['AER'][Phase.TRAIN]['num_iter']\n",
    "    plt.plot(num_iter, ma, label='%s' % (exp_data[fix_date][e]['label'],), color=exp_data[fix_date][e]['plot'][0], linewidth=3)\n",
    "    plt.fill_between(num_iter.squeeze(), ma-1*mstd, ma+1*mstd,  color=exp_data[fix_date][e]['plot'][0], alpha=0.2)\n",
    "    plt.xlim(0,xmax)\n",
    "    plt.xlabel('iteration', fontsize = 30,fontproperties=prop)\n",
    "    # format x-axis ticks\n",
    "    ticks, _ = plt.xticks()\n",
    "    plt.xticks(ticks, [\"%dK\" % int(t/1000) for t in ticks])\n",
    "    plt.ylabel('train loss', fontsize = 30,fontproperties=prop)\n",
    "    plt.title(\"%s set loss\" % (phase,), fontsize = 25,fontproperties=prop)\n",
    "    plt.legend(loc='upper right',fontsize = 20, prop = prop)\n",
    "    ax.spines[\"right\"].set_visible(False)\n",
    "    ax.spines[\"top\"].set_visible(False)\n",
    "    ax.tick_params(axis='both', direction='out')\n",
    "    ax.get_xaxis().tick_bottom()   # remove unneeded ticks \n",
    "    ax.get_yaxis().tick_left()\n",
    "    plt.grid()\n",
    "\n",
    "    \n",
    "    ymin = 0.3\n",
    "    ymax = 1.0\n",
    "    ax = plt.subplot(3,1,2)\n",
    "    num_iter = exp_data[fix_date]['AER'][Phase.TEST]['num_iter']\n",
    "    ma = np.mean(acc[i], axis = 0).squeeze()\n",
    "    mstd = np.std(acc[i], axis = 0).squeeze()\n",
    "    plt.plot(num_iter, ma, label='%s' % (exp_data[fix_date][e]['label'],),  color=exp_data[fix_date][e]['plot'][0], linestyle = exp_data[fix_date][e]['plot'][1],linewidth=3)\n",
    "    plt.fill_between(num_iter.squeeze(), ma-1*mstd, ma+1*mstd,  color=exp_data[fix_date][e]['plot'][0], alpha=0.2)\n",
    "    plt.xlim(0,xmax)\n",
    "    plt.ylim(ymin,ymax)\n",
    "    plt.xlabel('iteration', fontsize = 30,fontproperties=prop)\n",
    "    plt.ylabel('accuracy', fontsize = 30,fontproperties=prop)\n",
    "    plt.title(\"%s set accuracy\" % (phase,), fontsize = 25, fontproperties=prop)\n",
    "    ticks, _ = plt.xticks()\n",
    "    plt.xticks(ticks, [\"%dK\" % int(t/1000) for t in ticks])\n",
    "    plt.legend(loc='lower right', prop = prop)\n",
    "    ax.spines[\"right\"].set_visible(False)\n",
    "    ax.spines[\"top\"].set_visible(False)\n",
    "    ax.tick_params(axis='both', direction='out')\n",
    "    ax.get_xaxis().tick_bottom()   # remove unneeded ticks \n",
    "    ax.get_yaxis().tick_left()\n",
    "    plt.grid()\n",
    "\n",
    "    \n",
    "    ymin = 0.935\n",
    "    ymax = 0.955\n",
    "    ax = plt.subplot(3,1,3)\n",
    "    num_iter = exp_data[fix_date]['AER'][Phase.TEST]['num_iter']\n",
    "    ma = np.mean(acc[i], axis = 0).squeeze()\n",
    "    mstd = np.std(acc[i], axis = 0).squeeze()\n",
    "    plt.plot(num_iter, ma, label='%s' % (exp_data[fix_date][e]['label'],), color=exp_data[fix_date][e]['plot'][0], linestyle = exp_data[fix_date][e]['plot'][1],linewidth=3)\n",
    "    plt.fill_between(num_iter.squeeze(), ma-1*mstd, ma+1*mstd, color=exp_data[fix_date][e]['plot'][0], alpha=0.1)\n",
    "    plt.xlim(0,xmax)\n",
    "    plt.ylim(ymin,ymax)\n",
    "    plt.xlabel('iteration', fontsize = 30,fontproperties=prop)\n",
    "    plt.ylabel('accuracy', fontsize = 30,fontproperties=prop)\n",
    "    plt.title(\"Zoom: %s set accuracy\" % (phase,), fontsize = 25,fontproperties=prop)\n",
    "    plt.legend(loc='lower right',fontsize = 20, prop = prop)\n",
    "    ticks, _ = plt.xticks()\n",
    "    plt.xticks(ticks, [\"%dK\" % int(t/1000) for t in ticks])\n",
    "    ax.spines[\"right\"].set_visible(False)\n",
    "    ax.spines[\"top\"].set_visible(False)\n",
    "    ax.tick_params(axis='both', direction='out')\n",
    "    ax.get_xaxis().tick_bottom()   # remove unneeded ticks \n",
    "    ax.get_yaxis().tick_left()\n",
    "    plt.grid()\n",
    "\n",
    "plt.show()"
   ]
  },
  {
   "cell_type": "code",
   "execution_count": null,
   "metadata": {
    "collapsed": true
   },
   "outputs": [],
   "source": []
  },
  {
   "cell_type": "code",
   "execution_count": null,
   "metadata": {
    "collapsed": false
   },
   "outputs": [],
   "source": [
    "color = [ 'c', 'r', 'm','g', 'k','b', 'y', '#8A2BE2', '#fa8174']\n",
    "fig = plt.figure(figsize=(20,40))\n",
    "xmax = 39000\n",
    "ymin = 0.7\n",
    "ymax = 0.96\n",
    "fix_date = '0609'\n",
    "num_iter = exp_data[fix_date]['AER'][Phase.TEST]['num_iter']\n",
    "for i,e in enumerate(exps):\n",
    "    for j in range(len(dates_list)):\n",
    "\n",
    "        plt.subplot(3,1,1)\n",
    "        ma = np.mean(loss[i], axis = 0).squeeze()\n",
    "        mstd = np.std(loss[i], axis = 0).squeeze()\n",
    "        num_iter = exp_data[fix_date]['AER'][Phase.TRAIN]['num_iter']\n",
    "        plt.plot(num_iter, loss[i][j], label='AE weights: %s' % (exp_data[fix_date][e]['label'],), color=color[i])\n",
    "        #plt.fill_between(num_iter.squeeze(), ma-2*mstd, ma+2*mstd, color=color[i], alpha=0.2)\n",
    "        plt.xlim(0,xmax)\n",
    "        plt.xlabel('iteration')\n",
    "        # format x-axis ticks\n",
    "        ticks, _ = plt.xticks()\n",
    "        plt.xticks(ticks, [\"%dK\" % int(t/1000) for t in ticks])\n",
    "        plt.ylabel('train loss')\n",
    "        plt.title(\"Loss on the %s set\" % (phase,))\n",
    "\n",
    "\n",
    "        ymin = 0.3\n",
    "        ymax = 0.96\n",
    "        plt.subplot(3,1,2)\n",
    "        num_iter = exp_data[fix_date]['AER'][Phase.TEST]['num_iter']\n",
    "        ma = np.mean(acc[i][j], axis = 0).squeeze()\n",
    "        mstd = np.std(acc[i][j], axis = 0).squeeze()\n",
    "        plt.plot(num_iter, acc[i][j], label='AE weights: %s' % (exp_data[fix_date][e]['label'],), color=color[i])\n",
    "        #plt.fill_between(num_iter.squeeze(), ma-2*mstd, ma+2*mstd, color=color[i], alpha=0.2)\n",
    "        plt.xlim(0,xmax)\n",
    "        plt.ylim(ymin,ymax)\n",
    "        plt.xlabel('iteration')\n",
    "        plt.ylabel('accuracy')\n",
    "        plt.title(\"Accuracy on the %s set\" % (phase,))\n",
    "        plt.legend(loc='lower right')\n",
    "        plt.grid()\n",
    "\n",
    "\n",
    "        ymin = 0.925\n",
    "        ymax = 0.96\n",
    "        plt.subplot(3,1,3)\n",
    "        num_iter = exp_data[fix_date]['AER'][Phase.TEST]['num_iter']\n",
    "        ma = np.mean(acc[i][j], axis = 0).squeeze()\n",
    "        mstd = np.std(acc[i], axis = 0).squeeze()\n",
    "        plt.plot(num_iter, acc[i][j], label='AE weights: %s' % (exp_data[fix_date][e]['label'],), color=color[i])\n",
    "        #plt.fill_between(num_iter.squeeze(), ma-2*mstd, ma+2*mstd, color=color[i], alpha=0.2)\n",
    "        plt.xlim(0,xmax)\n",
    "        plt.ylim(ymin,ymax)\n",
    "        plt.xlabel('iteration')\n",
    "        plt.ylabel('accuracy')\n",
    "        plt.title(\"Zoom: Accuracy on the %s set\" % (phase,))\n",
    "        plt.legend(loc='lower right')\n",
    "        plt.grid()\n",
    "\n",
    "plt.show()"
   ]
  },
  {
   "cell_type": "markdown",
   "metadata": {
    "collapsed": false
   },
   "source": [
    "## Hypothesis Testing"
   ]
  },
  {
   "cell_type": "code",
   "execution_count": 4,
   "metadata": {
    "collapsed": false
   },
   "outputs": [],
   "source": [
    "from scipy.stats import ttest_rel as ttest\n",
    "acc_last = {e:[] for e in exps}\n",
    "\n",
    "\n",
    "for d,_ in exp_data.items():\n",
    "    for i,e in enumerate(exps):\n",
    "        acc_last[e].append(exp_data[d][e][Phase.TEST]['acc'][-1])\n",
    "\n",
    "# AENR10 vs AER\n",
    "_, p_1 = ttest(acc_last['AENR10'],acc_last['AER'])\n",
    "# AENR10 vs AENR25\n",
    "_, p_2 = ttest(acc_last['AENR10'],acc_last['AENR25'])\n",
    "# AER vs AER25\n",
    "_, p_3 = ttest(acc_last['AER'],acc_last['AENR25'])\n",
    "\n",
    "# AER vs AEUR\n",
    "_, p_4 = ttest(acc_last['AER'],acc_last['AEUR'])\n",
    "\n",
    "# AEUR vs AEUR10\n",
    "_, p_5 = ttest(acc_last['AEUR'],acc_last['AENUR10'])"
   ]
  },
  {
   "cell_type": "code",
   "execution_count": 5,
   "metadata": {
    "collapsed": false
   },
   "outputs": [
    {
     "name": "stdout",
     "output_type": "stream",
     "text": [
      "(array([ 0.25414092]), array([ 0.1707423]), array([ 0.85132651]), array([  1.19828524e-07]))\n"
     ]
    }
   ],
   "source": [
    "print(p_1, p_2, p_3, p_4)"
   ]
  },
  {
   "cell_type": "code",
   "execution_count": 6,
   "metadata": {
    "collapsed": false
   },
   "outputs": [
    {
     "name": "stdout",
     "output_type": "stream",
     "text": [
      "Difference Rotated vs. Rotated + 10% Noise: 0.084%\n"
     ]
    }
   ],
   "source": [
    "print('Difference Rotated vs. Rotated + 10% Noise: {}%'.format((np.mean(acc_last['AENR10'])  - np.mean(acc_last['AER']))*100))"
   ]
  },
  {
   "cell_type": "code",
   "execution_count": 7,
   "metadata": {
    "collapsed": false
   },
   "outputs": [
    {
     "name": "stdout",
     "output_type": "stream",
     "text": [
      "(0.95269999999999988, 0.95353999999999994, 0.95255999999999985)\n"
     ]
    }
   ],
   "source": [
    "print( np.mean(acc_last['AER']), np.mean(acc_last['AENR10']), np.mean(acc_last['AENR25']))"
   ]
  },
  {
   "cell_type": "markdown",
   "metadata": {},
   "source": [
    "## Visualize Testing\n"
   ]
  },
  {
   "cell_type": "code",
   "execution_count": 9,
   "metadata": {
    "collapsed": false
   },
   "outputs": [
    {
     "name": "stdout",
     "output_type": "stream",
     "text": [
      "8.0\n",
      "2.0\n"
     ]
    },
    {
     "data": {
      "image/png": "[encoded data removed]",
      "text/plain": [
       "<matplotlib.figure.Figure at 0x7fefd5db0a50>"
      ]
     },
     "metadata": {},
     "output_type": "display_data"
    }
   ],
   "source": [
    "import matplotlib.pyplot as plt\n",
    "import numpy as np\n",
    "exps = ['AER','AENR10', 'AENR25', 'AENR50','AEUR','AENUR10','AENUR25','AENUR50','RAND']\n",
    "\n",
    "\n",
    "N = len(exps)\n",
    "means = [np.mean((acc_last[e])) for e in exps]\n",
    "std = [np.std((acc_last[e])) for e in exps]\n",
    "ind = np.arange(1,N*2+1,2)  # the x locations for the groups\n",
    "width = 0.5      # the width of the bars\n",
    "fig, ax = plt.subplots(figsize=(10,10))\n",
    "ax.set_ylabel('Accuracy in %')\n",
    "ax.set_title('Classifier performance overview')\n",
    "ax.set_ylim([0.6,1.1])\n",
    "ax.set_xlim([0.,N*2+1])\n",
    "X = ind + width + 0.2\n",
    "ax.set_xticks(X)\n",
    "ax.set_yticks(np.arange(0.6,1.05,0.05))\n",
    "ax.set_xticklabels(exps)\n",
    "\n",
    "rects1 = ax.bar(ind + width, means, width, color='r', yerr=std)\n",
    "def autolabel(rects):\n",
    "    # attach some text labels\n",
    "    for rect in rects:\n",
    "        height = rect.get_height()\n",
    "        ax.text(rect.get_x() + rect.get_width()/2., 1.02*height,\n",
    "                '%0.3f%%' % height,\n",
    "                ha='center', va='bottom', fontsize = 12)\n",
    "        \n",
    "autolabel(rects1)\n",
    "def label_diff(i,j,text,X,Y, scaleytext,arm):\n",
    "    x = (X[i]+X[j])/2\n",
    "    y = 1.04*max(Y[i], Y[j])\n",
    "    dx = abs(X[i]-X[j])\n",
    "    print(dx)\n",
    "\n",
    "    props = {'connectionstyle':'bar','arrowstyle':'-',\n",
    "                 'shrinkA':arm,'shrinkB':arm,'lw':1}\n",
    "    ax.annotate(text, xy=(x,scaleytext*y), zorder=10, ha = 'center', size=12)\n",
    "    ax.annotate('', xy=(X[i],y), xytext=(X[j],y), arrowprops=props, ha = 'center')\n",
    "label_diff(0,4,'p={}'.format(float(p_4)),X, means, 1.08,60)\n",
    "label_diff(4,5,'p={:6f}'.format(float(p_5)),X, means,1.04,8)"
   ]
  },
  {
   "cell_type": "code",
   "execution_count": null,
   "metadata": {
    "collapsed": true
   },
   "outputs": [],
   "source": []
  },
  {
   "cell_type": "code",
   "execution_count": null,
   "metadata": {
    "collapsed": false
   },
   "outputs": [],
   "source": [
    "import matplotlib.font_manager\n",
    "matplotlib.font_manager.findfont('Roboto', fontext='ttf')"
   ]
  },
  {
   "cell_type": "code",
   "execution_count": null,
   "metadata": {
    "collapsed": false
   },
   "outputs": [],
   "source": [
    "print('A')"
   ]
  },
  {
   "cell_type": "code",
   "execution_count": null,
   "metadata": {
    "collapsed": true
   },
   "outputs": [],
   "source": []
  }
 ],
 "metadata": {
  "kernelspec": {
   "display_name": "Python 2",
   "language": "python",
   "name": "python2"
  },
  "language_info": {
   "codemirror_mode": {
    "name": "ipython",
    "version": 2
   },
   "file_extension": ".py",
   "mimetype": "text/x-python",
   "name": "python",
   "nbconvert_exporter": "python",
   "pygments_lexer": "ipython2",
   "version": "2.7.6"
  }
 },
 "nbformat": 4,
 "nbformat_minor": 0
}
