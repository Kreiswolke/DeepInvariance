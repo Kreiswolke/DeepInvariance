{
 "cells": [
  {
   "cell_type": "code",
   "execution_count": 1,
   "metadata": {
    "collapsed": false
   },
   "outputs": [],
   "source": [
    "from utils import set_up_dir\n",
    "from edit_prototxt import edit_prototxt"
   ]
  },
  {
   "cell_type": "markdown",
   "metadata": {},
   "source": [
    "## AER vs AEUR vs RAND"
   ]
  },
  {
   "cell_type": "code",
   "execution_count": 3,
   "metadata": {
    "collapsed": false,
    "scrolled": false
   },
   "outputs": [
    {
     "name": "stdout",
     "output_type": "stream",
     "text": [
      "train_net\n",
      "test_net\n",
      "network\n",
      "testiter\n",
      "testinterval\n",
      "maxiter\n",
      "snapshotprefix\n",
      "AEUR\n",
      "/mnt/antares_raid/home/oliver/adhara/src/caffe/build/tools/caffe train -solver /mnt/antares_raid/home/oliver/Experiments/MLP/AEUR/MLP_solver.prototxt -weights /mnt/antares_raid/home/oliver/Experiments/UR/snapshots/_iter_780000.caffemodel 2>&1 | tee -a /mnt/antares_raid/home/oliver/Experiments/MLP/AEUR/log/log.log\n",
      "train_net\n",
      "test_net\n",
      "network\n",
      "testiter\n",
      "testinterval\n",
      "maxiter\n",
      "snapshotprefix\n",
      "RAND\n",
      "/mnt/antares_raid/home/oliver/adhara/src/caffe/build/tools/caffe train -solver /mnt/antares_raid/home/oliver/Experiments/MLP/RAND/MLP_solver.prototxt 2>&1 | tee -a /mnt/antares_raid/home/oliver/Experiments/MLP/RAND/log/log.log\n",
      "train_net\n",
      "test_net\n",
      "network\n",
      "testiter\n",
      "testinterval\n",
      "maxiter\n",
      "snapshotprefix\n",
      "AER\n",
      "/mnt/antares_raid/home/oliver/adhara/src/caffe/build/tools/caffe train -solver /mnt/antares_raid/home/oliver/Experiments/MLP/AER/MLP_solver.prototxt -weights /mnt/antares_raid/home/oliver/Experiments/R/snapshots/_iter_780000.caffemodel 2>&1 | tee -a /mnt/antares_raid/home/oliver/Experiments/MLP/AER/log/log.log\n"
     ]
    }
   ],
   "source": [
    "caffe_root = \"/mnt/antares_raid/home/oliver/adhara/src/caffe/build/tools/caffe\"\n",
    "root =  \"/mnt/antares_raid/home/oliver/Experiments/MLP/\"\n",
    "set_up_dir(root)\n",
    "\n",
    "#All MLP trainon rotated images (R) and test on unrotated images (UR)\n",
    "\n",
    "#Create Net\n",
    "\n",
    "template_file_name_net = \"/mnt/antares_raid/home/oliver/Scripts/template_MLP_net.prototxt\"\n",
    "template_file_name_solver = \"/mnt/antares_raid/home/oliver/Scripts/template_MLP_solver.prototxt\"\n",
    "\n",
    "#Create Solvers for different exps\n",
    "cases = {'AER': {'model': \"/mnt/antares_raid/home/oliver/Experiments/R/snapshots/_iter_780000.caffemodel\"}, \n",
    "        'RAND': {'model': None}, \n",
    "        'AEUR': {'model': \"/mnt/antares_raid/home/oliver/Experiments/UR/snapshots/_iter_780000.caffemodel\"},\n",
    "        }\n",
    "\n",
    "for c in cases:\n",
    "    replacement_dict =  {'train_net': '\"{}\"'.format(\"/mnt/antares_raid/home/oliver/Experiments/lmdbs/MNIST_TRAIN_60000_rot_lmdb/shuffled/\"),\n",
    "                     'test_net': '\"{}\"'.format(\"/mnt/antares_raid/home/oliver/Experiments/lmdbs/MNIST_TEST_10000_unrot_lmdb/shuffled/\" )\n",
    "                     }\n",
    "    replacement_dict_solver = {\n",
    "                     'network': [], \n",
    "                     'testiter': 130,\n",
    "                     'testinterval': 780,\n",
    "                     'maxiter': 390000,\n",
    "                     'snapshotprefix': [] \n",
    "                     }\n",
    "    set_up_dir(root + c + '/snapshots/')\n",
    "    set_up_dir(root + c + '/log/')\n",
    "    net_file =  root + c + '/MLP_net.prototxt'\n",
    "    solver_file = root + c + '/MLP_solver.prototxt'\n",
    "\n",
    "    replacement_dict_solver['network'] = str('\"{}\"'.format(net_file))\n",
    "    replacement_dict_solver['snapshotprefix'] = str('\"{}\"'.format(root + c + '/snapshots/'))\n",
    "\n",
    "         \n",
    "    edit_prototxt(replacement_dict,template_file_name_net, net_file)\n",
    "    edit_prototxt(replacement_dict_solver, template_file_name_solver, solver_file )\n",
    "         \n",
    "    if c != 'RAND':\n",
    "        cmd = caffe_root + ' train' + ' -solver ' + solver_file + ' -weights ' + cases[c]['model'] + ' 2>&1 | tee -a ' + root + c + '/log/' + 'log.log'\n",
    "    else:\n",
    "        cmd = caffe_root + ' train' + ' -solver ' + solver_file +  ' 2>&1 | tee -a ' + root + c + '/log/' + 'log.log'\n",
    "    print(c)\n",
    "    print(cmd)"
   ]
  },
  {
   "cell_type": "code",
   "execution_count": 15,
   "metadata": {
    "collapsed": false
   },
   "outputs": [
    {
     "name": "stdout",
     "output_type": "stream",
     "text": [
      "{'branch_pages': 6L, 'leaf_pages': 903L, 'overflow_pages': 130000L, 'psize': 4096L, 'depth': 3L, 'entries': 130000L}\n"
     ]
    }
   ],
   "source": [
    "\n",
    "import lmdb\n",
    "db = lmdb.open(\"/mnt/antares_raid/home/oliver/Experiments/lmdbs/MNIST_TEST_10000_unrot_lmdb/shuffled/\")\n",
    "print(db.stat())"
   ]
  },
  {
   "cell_type": "markdown",
   "metadata": {},
   "source": [
    "## Denoising cases"
   ]
  },
  {
   "cell_type": "code",
   "execution_count": 5,
   "metadata": {
    "collapsed": false
   },
   "outputs": [
    {
     "name": "stdout",
     "output_type": "stream",
     "text": [
      "train_net\n",
      "test_net\n",
      "network\n",
      "testiter\n",
      "testinterval\n",
      "maxiter\n",
      "snapshotprefix\n",
      "AENR50\n",
      "/mnt/antares_raid/home/oliver/adhara/src/caffe/build/tools/caffe train -solver /mnt/antares_raid/home/oliver/Experiments/MLP/AENR50/MLP_solver.prototxt -weights /mnt/antares_raid/home/oliver/Experiments/N50R/snapshots/_iter_780000.caffemodel 2>&1 | tee -a /mnt/antares_raid/home/oliver/Experiments/MLP/AENR50/log/log.log\n",
      "train_net\n",
      "test_net\n",
      "network\n",
      "testiter\n",
      "testinterval\n",
      "maxiter\n",
      "snapshotprefix\n",
      "AENUR25\n",
      "/mnt/antares_raid/home/oliver/adhara/src/caffe/build/tools/caffe train -solver /mnt/antares_raid/home/oliver/Experiments/MLP/AENUR25/MLP_solver.prototxt -weights /mnt/antares_raid/home/oliver/Experiments/N25UR/snapshots/_iter_780000.caffemodel 2>&1 | tee -a /mnt/antares_raid/home/oliver/Experiments/MLP/AENUR25/log/log.log\n",
      "train_net\n",
      "test_net\n",
      "network\n",
      "testiter\n",
      "testinterval\n",
      "maxiter\n",
      "snapshotprefix\n",
      "AENR25\n",
      "/mnt/antares_raid/home/oliver/adhara/src/caffe/build/tools/caffe train -solver /mnt/antares_raid/home/oliver/Experiments/MLP/AENR25/MLP_solver.prototxt -weights /mnt/antares_raid/home/oliver/Experiments/N25R/snapshots/_iter_780000.caffemodel 2>&1 | tee -a /mnt/antares_raid/home/oliver/Experiments/MLP/AENR25/log/log.log\n",
      "train_net\n",
      "test_net\n",
      "network\n",
      "testiter\n",
      "testinterval\n",
      "maxiter\n",
      "snapshotprefix\n",
      "AENUR50\n",
      "/mnt/antares_raid/home/oliver/adhara/src/caffe/build/tools/caffe train -solver /mnt/antares_raid/home/oliver/Experiments/MLP/AENUR50/MLP_solver.prototxt -weights /mnt/antares_raid/home/oliver/Experiments/N50UR/snapshots/_iter_780000.caffemodel 2>&1 | tee -a /mnt/antares_raid/home/oliver/Experiments/MLP/AENUR50/log/log.log\n"
     ]
    }
   ],
   "source": [
    "set_up_dir(root)\n",
    "\n",
    "#All MLP trainon rotated images (R) and test on unrotated images (UR)\n",
    "\n",
    "#Create Net\n",
    "\n",
    "template_file_name_net = \"/mnt/antares_raid/home/oliver/Scripts/template_MLP_net.prototxt\"\n",
    "template_file_name_solver = \"/mnt/antares_raid/home/oliver/Scripts/template_MLP_solver.prototxt\"\n",
    "\n",
    "#Create Solvers for different exps\n",
    "cases = {'AENR25': {'model': \"/mnt/antares_raid/home/oliver/Experiments/N25R/snapshots/_iter_780000.caffemodel\"}, \n",
    "        'AENR50': {'model': \"/mnt/antares_raid/home/oliver/Experiments/N50R/snapshots/_iter_780000.caffemodel\"}, \n",
    "        'AENUR25': {'model': \"/mnt/antares_raid/home/oliver/Experiments/N25UR/snapshots/_iter_780000.caffemodel\"},\n",
    "        'AENUR50': {'model': \"/mnt/antares_raid/home/oliver/Experiments/N50UR/snapshots/_iter_780000.caffemodel\"},\n",
    "\n",
    "        }\n",
    "\n",
    "for c in cases:\n",
    "    replacement_dict =  {'train_net': '\"{}\"'.format(\"/mnt/antares_raid/home/oliver/Experiments/lmdbs/MNIST_TRAIN_60000_rot_lmdb/shuffled/\"),\n",
    "                     'test_net': '\"{}\"'.format(\"/mnt/antares_raid/home/oliver/Experiments/lmdbs/MNIST_TEST_10000_unrot_lmdb/shuffled/\" )\n",
    "                     }\n",
    "    replacement_dict_solver = {\n",
    "                     'network': [], \n",
    "                     'testiter': 130,\n",
    "                     'testinterval': 780,\n",
    "                     'maxiter': 390000,\n",
    "                     'snapshotprefix': [] \n",
    "                     }\n",
    "    set_up_dir(root + c + '/snapshots/')\n",
    "    set_up_dir(root + c + '/log/')\n",
    "    net_file =  root + c + '/MLP_net.prototxt'\n",
    "    solver_file = root + c + '/MLP_solver.prototxt'\n",
    "\n",
    "    replacement_dict_solver['network'] = str('\"{}\"'.format(net_file))\n",
    "    replacement_dict_solver['snapshotprefix'] = str('\"{}\"'.format(root + c + '/snapshots/'))\n",
    "\n",
    "         \n",
    "    edit_prototxt(replacement_dict,template_file_name_net, net_file)\n",
    "    edit_prototxt(replacement_dict_solver, template_file_name_solver, solver_file )\n",
    "         \n",
    "    if c != 'RAND':\n",
    "        cmd = caffe_root + ' train' + ' -solver ' + solver_file + ' -weights ' + cases[c]['model'] + ' 2>&1 | tee -a ' + root + c + '/log/' + 'log.log'\n",
    "    else:\n",
    "        cmd = caffe_root + ' train' + ' -solver ' + solver_file +  ' 2>&1 | tee -a ' + root + c + '/log/' + 'log.log'\n",
    "    print(c)\n",
    "    print(cmd)"
   ]
  },
  {
   "cell_type": "code",
   "execution_count": null,
   "metadata": {
    "collapsed": true
   },
   "outputs": [],
   "source": []
  }
 ],
 "metadata": {
  "kernelspec": {
   "display_name": "Python 2",
   "language": "python",
   "name": "python2"
  },
  "language_info": {
   "codemirror_mode": {
    "name": "ipython",
    "version": 2
   },
   "file_extension": ".py",
   "mimetype": "text/x-python",
   "name": "python",
   "nbconvert_exporter": "python",
   "pygments_lexer": "ipython2",
   "version": "2.7.6"
  }
 },
 "nbformat": 4,
 "nbformat_minor": 0
}
