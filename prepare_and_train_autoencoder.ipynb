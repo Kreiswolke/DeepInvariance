{
 "cells": [
  {
   "cell_type": "code",
   "execution_count": 2,
   "metadata": {
    "collapsed": true
   },
   "outputs": [],
   "source": [
    "from utils import set_up_dir\n",
    "from edit_prototxt import edit_prototxt, edit_solver"
   ]
  },
  {
   "cell_type": "code",
   "execution_count": null,
   "metadata": {
    "collapsed": true
   },
   "outputs": [],
   "source": []
  },
  {
   "cell_type": "code",
   "execution_count": 2,
   "metadata": {
    "collapsed": false,
    "scrolled": true
   },
   "outputs": [
    {
     "name": "stdout",
     "output_type": "stream",
     "text": [
      "UR\n",
      "train_net_unrot\n",
      "test_net_unrot\n",
      "network\n",
      "testiter\n",
      "testinterval\n",
      "snapshotprefix\n",
      "/mnt/antares_raid/home/oliver/adhara/src/caffe/build/tools/caffe train -solver /mnt/antares_raid/home/oliver/Experiments/UR/solver.prototxt 2>&1 | tee -a /mnt/antares_raid/home/oliver/Experiments/UR/log/log.log\n"
     ]
    }
   ],
   "source": [
    "caffe_root = \"/mnt/antares_raid/home/oliver/adhara/src/caffe/build/tools/caffe\"\n",
    "root =  \"/mnt/antares_raid/home/oliver/Experiments/\"\n",
    "cases = {\n",
    "         'R':{'template_net': \"/mnt/antares_raid/home/oliver/Scripts/template_AER_net.prototxt\" , \n",
    "              'template_solver': \"/mnt/antares_raid/home/oliver/Scripts/template_autoencoder_solver.prototxt\"},\n",
    "                \n",
    "         'UR': {'template_net': \"/mnt/antares_raid/home/oliver/Scripts/template_AEUR_net.prototxt\",\n",
    "                'template_solver': \"/mnt/antares_raid/home/oliver/Scripts/template_autoencoder_solver.prototxt\"}\n",
    "        }\n",
    "\n",
    "\n",
    "for c in cases:\n",
    "    replacement_dict =  {'train_net': '\"{}\"'.format(\"/mnt/antares_raid/home/oliver/Experiments/lmdbs/MNIST_TRAIN_60000_rot_lmdb/shuffled/\"),\n",
    "                     'test_net': '\"{}\"'.format(\"/mnt/antares_raid/home/oliver/Experiments/lmdbs/MNIST_TEST_10000_rot_lmdb/shuffled/\" ),\n",
    "                     'train_net_unrot': '\"{}\"'.format(\"/mnt/antares_raid/home/oliver/Experiments/lmdbs/MNIST_TRAIN_60000_unrot_lmdb/shuffled/\"),\n",
    "                     'test_net_unrot': '\"{}\"'.format(\"/mnt/antares_raid/home/oliver/Experiments/lmdbs/MNIST_TEST_10000_unrot_lmdb/shuffled/\") \n",
    "                    }\n",
    "    replacement_dict_solver = {\n",
    "                     'network': [], \n",
    "                     'testiter': 130,\n",
    "                     'testinterval': 780,\n",
    "                     'snapshotprefix': [] \n",
    "                     }\n",
    "\n",
    "    print(c)\n",
    "    set_up_dir(root + c + '/snapshots/')\n",
    "    set_up_dir(root + c + '/log/')\n",
    "    net_file =  root + c + '/net.prototxt'\n",
    "    solver_file = root + c + '/solver.prototxt'\n",
    "    \n",
    "    replacement_dict_solver['network'] = str('\"{}\"'.format(net_file))\n",
    "    replacement_dict_solver['snapshotprefix'] = str('\"{}\"'.format(root + c + '/snapshots/'))\n",
    "    \n",
    "    edit_prototxt(replacement_dict, cases[c]['template_net'], net_file)\n",
    "    edit_solver(replacement_dict_solver, cases[c]['template_solver'], solver_file )\n",
    "\n",
    "    cmd = caffe_root + ' train' + ' -solver ' + solver_file + ' 2>&1 | tee -a ' + root + c + '/log/' + 'log.log'\n",
    "    print(cmd)"
   ]
  },
  {
   "cell_type": "markdown",
   "metadata": {
    "collapsed": false
   },
   "source": [
    "## Denoising"
   ]
  },
  {
   "cell_type": "code",
   "execution_count": null,
   "metadata": {
    "collapsed": false
   },
   "outputs": [],
   "source": [
    "'test_net' in A"
   ]
  },
  {
   "cell_type": "code",
   "execution_count": 3,
   "metadata": {
    "collapsed": false
   },
   "outputs": [
    {
     "name": "stdout",
     "output_type": "stream",
     "text": [
      "N25UR\n",
      "train_net_unrot\n",
      "test_net_unrot\n",
      "network\n",
      "testiter\n",
      "testinterval\n",
      "snapshotprefix\n",
      "/mnt/antares_raid/home/oliver/adhara/src/caffe/build/tools/caffe train -solver /mnt/antares_raid/home/oliver/Experiments/N25UR/solver.prototxt 2>&1 | tee -a /mnt/antares_raid/home/oliver/Experiments/N25UR/log/log.log\n"
     ]
    }
   ],
   "source": [
    "caffe_root = \"/mnt/antares_raid/home/oliver/adhara/src/caffe/build/tools/caffe\"\n",
    "root =  \"/mnt/antares_raid/home/oliver/Experiments/\"\n",
    "cases = {\n",
    "         'N25R':{'template_net': \"/mnt/antares_raid/home/oliver/Scripts/template_AER_net.prototxt\" , \n",
    "              'template_solver': \"/mnt/antares_raid/home/oliver/Scripts/template_autoencoder_solver.prototxt\"},\n",
    "                \n",
    "         'N25UR': {'template_net': \"/mnt/antares_raid/home/oliver/Scripts/template_AEUR_net.prototxt\",\n",
    "                'template_solver': \"/mnt/antares_raid/home/oliver/Scripts/template_autoencoder_solver.prototxt\"}\n",
    "        }\n",
    "\n",
    "\n",
    "for c in cases:\n",
    "    replacement_dict =  {'train_net': '\"{}\"'.format(\"/mnt/antares_raid/home/oliver/Experiments/lmdbs/corrupted_25/MNIST_TRAIN_60000_corrupt_px_196_rot_lmdb/shuffled/\"),\n",
    "                     'test_net': '\"{}\"'.format(\"/mnt/antares_raid/home/oliver/Experiments/lmdbs/corrupted_25/MNIST_TEST_10000_corrupt_px_196_rot_lmdb/shuffled/\" ),\n",
    "                     'train_net_unrot': '\"{}\"'.format(\"/mnt/antares_raid/home/oliver/Experiments/lmdbs/corrupted_25/MNIST_TRAIN_60000_corrupt_px_196_unrot_lmdb/shuffled/\"),\n",
    "                     'test_net_unrot': '\"{}\"'.format(\"/mnt/antares_raid/home/oliver/Experiments/lmdbs/corrupted_25/MNIST_TEST_10000_corrupt_px_196_unrot_lmdb/shuffled/\") \n",
    "                    }\n",
    "    replacement_dict_solver = {\n",
    "                     'network': [], \n",
    "                     'testiter': 130,\n",
    "                     'testinterval': 780,\n",
    "                     'snapshotprefix': [] \n",
    "                     }\n",
    "\n",
    "    print(c)\n",
    "    set_up_dir(root + c + '/snapshots/')\n",
    "    set_up_dir(root + c + '/log/')\n",
    "    net_file =  root + c + '/net.prototxt'\n",
    "    solver_file = root + c + '/solver.prototxt'\n",
    "    \n",
    "    replacement_dict_solver['network'] = str('\"{}\"'.format(net_file))\n",
    "    replacement_dict_solver['snapshotprefix'] = str('\"{}\"'.format(root + c + '/snapshots/'))\n",
    "    \n",
    "    edit_prototxt(replacement_dict, cases[c]['template_net'], net_file)\n",
    "    edit_solver(replacement_dict_solver, cases[c]['template_solver'], solver_file )\n",
    "\n",
    "    cmd = caffe_root + ' train' + ' -solver ' + solver_file + ' 2>&1 | tee -a ' + root + c + '/log/' + 'log.log'\n",
    "    print(cmd)"
   ]
  },
  {
   "cell_type": "markdown",
   "metadata": {
    "collapsed": true
   },
   "source": [
    "## Denoising 50"
   ]
  },
  {
   "cell_type": "code",
   "execution_count": 3,
   "metadata": {
    "collapsed": false
   },
   "outputs": [
    {
     "name": "stdout",
     "output_type": "stream",
     "text": [
      "N50R\n",
      "train_net\n",
      "test_net\n",
      "train_net_unrot\n",
      "test_net_unrot\n",
      "network\n",
      "testiter\n",
      "testinterval\n",
      "snapshotprefix\n",
      "/mnt/antares_raid/home/oliver/adhara/src/caffe/build/tools/caffe train -solver /mnt/antares_raid/home/oliver/Experiments/N50R/solver.prototxt 2>&1 | tee -a /mnt/antares_raid/home/oliver/Experiments/N50R/log/log.log\n",
      "N50UR\n",
      "train_net_unrot\n",
      "test_net_unrot\n",
      "network\n",
      "testiter\n",
      "testinterval\n",
      "snapshotprefix\n",
      "/mnt/antares_raid/home/oliver/adhara/src/caffe/build/tools/caffe train -solver /mnt/antares_raid/home/oliver/Experiments/N50UR/solver.prototxt 2>&1 | tee -a /mnt/antares_raid/home/oliver/Experiments/N50UR/log/log.log\n"
     ]
    }
   ],
   "source": [
    "caffe_root = \"/mnt/antares_raid/home/oliver/adhara/src/caffe/build/tools/caffe\"\n",
    "root =  \"/mnt/antares_raid/home/oliver/Experiments/\"\n",
    "cases = {\n",
    "         'N50R':{'template_net': \"/mnt/antares_raid/home/oliver/Scripts/template_AER_net.prototxt\" , \n",
    "              'template_solver': \"/mnt/antares_raid/home/oliver/Scripts/template_autoencoder_solver.prototxt\"},\n",
    "                \n",
    "         'N50UR': {'template_net': \"/mnt/antares_raid/home/oliver/Scripts/template_AEUR_net.prototxt\",\n",
    "                'template_solver': \"/mnt/antares_raid/home/oliver/Scripts/template_autoencoder_solver.prototxt\"}\n",
    "        }\n",
    "\n",
    "\n",
    "for c in cases:\n",
    "    replacement_dict =  {'train_net': '\"{}\"'.format(\"/mnt/antares_raid/home/oliver/Experiments/lmdbs/corrupted_50/MNIST_TRAIN_60000_corrupt_px_392_rot_lmdb/shuffled/\"),\n",
    "                     'test_net': '\"{}\"'.format(\"/mnt/antares_raid/home/oliver/Experiments/lmdbs/corrupted_50/MNIST_TEST_10000_corrupt_px_392_rot_lmdb/shuffled/\" ),\n",
    "                     'train_net_unrot': '\"{}\"'.format(\"/mnt/antares_raid/home/oliver/Experiments/lmdbs/corrupted_50/MNIST_TRAIN_60000_corrupt_px_392_unrot_lmdb/shuffled/\"),\n",
    "                     'test_net_unrot': '\"{}\"'.format(\"/mnt/antares_raid/home/oliver/Experiments/lmdbs/corrupted_50/MNIST_TEST_10000_corrupt_px_392_unrot_lmdb/shuffled/\") \n",
    "                    }\n",
    "    replacement_dict_solver = {\n",
    "                     'network': [], \n",
    "                     'testiter': 130,\n",
    "                     'testinterval': 780,\n",
    "                     'snapshotprefix': [] \n",
    "                     }\n",
    "\n",
    "    print(c)\n",
    "    set_up_dir(root + c + '/snapshots/')\n",
    "    set_up_dir(root + c + '/log/')\n",
    "    net_file =  root + c + '/net.prototxt'\n",
    "    solver_file = root + c + '/solver.prototxt'\n",
    "    \n",
    "    replacement_dict_solver['network'] = str('\"{}\"'.format(net_file))\n",
    "    replacement_dict_solver['snapshotprefix'] = str('\"{}\"'.format(root + c + '/snapshots/'))\n",
    "    \n",
    "    edit_prototxt(replacement_dict, cases[c]['template_net'], net_file)\n",
    "    edit_solver(replacement_dict_solver, cases[c]['template_solver'], solver_file )\n",
    "\n",
    "    cmd = caffe_root + ' train' + ' -solver ' + solver_file + ' 2>&1 | tee -a ' + root + c + '/log/' + 'log.log'\n",
    "    print(cmd)"
   ]
  },
  {
   "cell_type": "code",
   "execution_count": null,
   "metadata": {
    "collapsed": true
   },
   "outputs": [],
   "source": []
  }
 ],
 "metadata": {
  "kernelspec": {
   "display_name": "Python 2",
   "language": "python",
   "name": "python2"
  },
  "language_info": {
   "codemirror_mode": {
    "name": "ipython",
    "version": 2
   },
   "file_extension": ".py",
   "mimetype": "text/x-python",
   "name": "python",
   "nbconvert_exporter": "python",
   "pygments_lexer": "ipython2",
   "version": "2.7.6"
  }
 },
 "nbformat": 4,
 "nbformat_minor": 0
}
