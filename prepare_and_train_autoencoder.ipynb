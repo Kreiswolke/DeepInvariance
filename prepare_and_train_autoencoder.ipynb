{
 "cells": [
  {
   "cell_type": "code",
   "execution_count": 18,
   "metadata": {
    "collapsed": true
   },
   "outputs": [],
   "source": [
    "from utils import set_up_dir\n"
   ]
  },
  {
   "cell_type": "code",
   "execution_count": 41,
   "metadata": {
    "collapsed": false
   },
   "outputs": [],
   "source": [
    "def edit_prototxt(replacement_dict, template_file_name, new_file_name):\n",
    "    \"\"\"\n",
    "    :param replacement_dict: {'training_data': , 'training_labels': ,\n",
    "                              'testing_data': , 'testing_labels': }\n",
    "    :return:\n",
    "    \"\"\"\n",
    "\n",
    "    with open(new_file_name, 'w') as new_file:\n",
    "        with open(template_file_name) as template_file:\n",
    "            for line in template_file:\n",
    "                for key in replacement_dict:\n",
    "                    if key in line:\n",
    "                        print(key)\n",
    "                        line = line.replace(key, str(replacement_dict[key]))\n",
    "                        last_key = key\n",
    "                        break           \n",
    "                try:\n",
    "                    replacement_dict.pop(last_key, None)\n",
    "                except UnboundLocalError:\n",
    "                    pass\n",
    "                new_file.write(line)\n",
    "\n",
    "\n",
    "def edit_solver(replacement_dict_solver, template_file, new_file):\n",
    "    edit_prototxt(replacement_dict_solver, template_file, new_file)"
   ]
  },
  {
   "cell_type": "code",
   "execution_count": 42,
   "metadata": {
    "collapsed": false
   },
   "outputs": [
    {
     "name": "stdout",
     "output_type": "stream",
     "text": [
      "R\n",
      "train_net\n",
      "test_net\n",
      "train_net_unrot\n",
      "test_net_unrot\n",
      "network\n",
      "testiter\n",
      "testinterval\n",
      "snapshotprefix\n",
      "/mnt/antares_raid/home/oliver/adhara/src/caffe/build/tools/caffe train -solver /mnt/antares_raid/home/oliver/Experiments/R/solver.prototxt 2>&1 | tee -a /mnt/antares_raid/home/oliver/Experiments/R/log/log.log\n",
      "UR\n",
      "train_net\n",
      "test_net\n",
      "network\n",
      "testiter\n",
      "testinterval\n",
      "snapshotprefix\n",
      "/mnt/antares_raid/home/oliver/adhara/src/caffe/build/tools/caffe train -solver /mnt/antares_raid/home/oliver/Experiments/UR/solver.prototxt 2>&1 | tee -a /mnt/antares_raid/home/oliver/Experiments/UR/log/log.log\n"
     ]
    }
   ],
   "source": [
    "caffe_root = \"/mnt/antares_raid/home/oliver/adhara/src/caffe/build/tools/caffe\"\n",
    "root =  \"/mnt/antares_raid/home/oliver/Experiments/\"\n",
    "cases = {\n",
    "         'R':{'template_net': \"/mnt/antares_raid/home/oliver/Scripts/template_AER_net.prototxt\" , \n",
    "              'template_solver': \"/mnt/antares_raid/home/oliver/Scripts/template_autoencoder_solver.prototxt\"},\n",
    "                \n",
    "         'UR': {'template_net': \"/mnt/antares_raid/home/oliver/Scripts/template_AEUR_net.prototxt\",\n",
    "                'template_solver': \"/mnt/antares_raid/home/oliver/Scripts/template_autoencoder_solver.prototxt\"}\n",
    "        }\n",
    "\n",
    "\n",
    "for c in cases:\n",
    "    replacement_dict =  {'train_net': '\"{}\"'.format(\"/mnt/antares_raid/home/oliver/Experiments/lmdbs/MNIST_TRAIN_60000_rot_lmdb/shuffled/\"),\n",
    "                     'test_net': '\"{}\"'.format(\"/mnt/antares_raid/home/oliver/Experiments/lmdbs/MNIST_TEST_10000_rot_lmdb/shuffled/\" ),\n",
    "                     'train_net_unrot': '\"{}\"'.format(\"/mnt/antares_raid/home/oliver/Experiments/lmdbs/MNIST_TRAIN_60000_unrot_lmdb/shuffled/\"),\n",
    "                     'test_net_unrot': '\"{}\"'.format(\"/mnt/antares_raid/home/oliver/Experiments/lmdbs/MNIST_TEST_10000_unrot_lmdb/shuffled/\") \n",
    "                    }\n",
    "    replacement_dict_solver = {\n",
    "                     'network': [], \n",
    "                     'testiter': 130,\n",
    "                     'testinterval': 780,\n",
    "                     'snapshotprefix': [] \n",
    "                     }\n",
    "\n",
    "    print(c)\n",
    "    set_up_dir(root + c + '/snapshots/')\n",
    "    set_up_dir(root + c + '/log/')\n",
    "    net_file =  root + c + '/net.prototxt'\n",
    "    solver_file = root + c + '/solver.prototxt'\n",
    "    \n",
    "    replacement_dict_solver['network'] = str('\"{}\"'.format(net_file))\n",
    "    replacement_dict_solver['snapshotprefix'] = str('\"{}\"'.format(root + c + '/snapshots/'))\n",
    "    \n",
    "    edit_prototxt(replacement_dict, cases[c]['template_net'], net_file)\n",
    "    edit_solver(replacement_dict_solver, cases[c]['template_solver'], solver_file )\n",
    "\n",
    "    cmd = caffe_root + ' train' + ' -solver ' + solver_file + ' 2>&1 | tee -a ' + root + c + '/log/' + 'log.log'\n",
    "    print(cmd)"
   ]
  },
  {
   "cell_type": "code",
   "execution_count": 13,
   "metadata": {
    "collapsed": false
   },
   "outputs": [
    {
     "ename": "NameError",
     "evalue": "name 'utils' is not defined",
     "output_type": "error",
     "traceback": [
      "\u001b[1;31m---------------------------------------------------------------------------\u001b[0m",
      "\u001b[1;31mNameError\u001b[0m                                 Traceback (most recent call last)",
      "\u001b[1;32m<ipython-input-13-2ea17e6a0ace>\u001b[0m in \u001b[0;36m<module>\u001b[1;34m()\u001b[0m\n\u001b[1;32m----> 1\u001b[1;33m \u001b[0mreload\u001b[0m\u001b[1;33m(\u001b[0m\u001b[0mutils\u001b[0m\u001b[1;33m)\u001b[0m\u001b[1;33m\u001b[0m\u001b[0m\n\u001b[0m",
      "\u001b[1;31mNameError\u001b[0m: name 'utils' is not defined"
     ]
    }
   ],
   "source": [
    "reload(utils)"
   ]
  },
  {
   "cell_type": "code",
   "execution_count": null,
   "metadata": {
    "collapsed": false
   },
   "outputs": [],
   "source": [
    "'test_net' in A"
   ]
  },
  {
   "cell_type": "code",
   "execution_count": 30,
   "metadata": {
    "collapsed": false
   },
   "outputs": [
    {
     "data": {
      "text/plain": [
       "'\"/mnt/antares_raid/home/oliver/Experiments/lmdbs/MNIST_lmdb/MNIST_TRAIN_60000_rot_lmdb/shuffled/'"
      ]
     },
     "execution_count": 30,
     "metadata": {},
     "output_type": "execute_result"
    }
   ],
   "source": [
    "'\"' + \"/mnt/antares_raid/home/oliver/Experiments/lmdbs/MNIST_lmdb/MNIST_TRAIN_60000_rot_lmdb/shuffled/\" \n"
   ]
  },
  {
   "cell_type": "code",
   "execution_count": null,
   "metadata": {
    "collapsed": true
   },
   "outputs": [],
   "source": []
  }
 ],
 "metadata": {
  "kernelspec": {
   "display_name": "Python 2",
   "language": "python",
   "name": "python2"
  },
  "language_info": {
   "codemirror_mode": {
    "name": "ipython",
    "version": 2
   },
   "file_extension": ".py",
   "mimetype": "text/x-python",
   "name": "python",
   "nbconvert_exporter": "python",
   "pygments_lexer": "ipython2",
   "version": "2.7.6"
  }
 },
 "nbformat": 4,
 "nbformat_minor": 0
}
